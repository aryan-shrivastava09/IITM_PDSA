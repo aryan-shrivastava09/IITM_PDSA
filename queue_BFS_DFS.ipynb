{
 "cells": [
  {
   "cell_type": "markdown",
   "source": [
    "# Queue"
   ],
   "metadata": {}
  },
  {
   "cell_type": "code",
   "execution_count": 1,
   "source": [
    "class Queue:\r\n",
    "    def __init__(self) -> None:\r\n",
    "        self.queue = []\r\n",
    "    \r\n",
    "    def addq(self,v):\r\n",
    "        self.queue.append(v)\r\n",
    "\r\n",
    "    def delq(self):\r\n",
    "        v = None\r\n",
    "        if not self.isempty():\r\n",
    "            v = self.queue[0]\r\n",
    "            self.queue = self.queue[1:]\r\n",
    "        return v\r\n",
    "    \r\n",
    "    def isempty(self):\r\n",
    "        return self.queue==[]\r\n",
    "    \r\n",
    "    def __str__(self) -> str:\r\n",
    "        return str(self.queue)"
   ],
   "outputs": [],
   "metadata": {}
  },
  {
   "cell_type": "code",
   "execution_count": 2,
   "source": [
    "q = Queue()\r\n",
    "\r\n",
    "for i in range(3):\r\n",
    "    q.addq(i)\r\n",
    "    print(q)\r\n",
    "print(q.isempty())"
   ],
   "outputs": [
    {
     "output_type": "stream",
     "name": "stdout",
     "text": [
      "[0]\n",
      "[0, 1]\n",
      "[0, 1, 2]\n",
      "False\n"
     ]
    }
   ],
   "metadata": {}
  },
  {
   "cell_type": "code",
   "execution_count": 3,
   "source": [
    "for j in range(3):\r\n",
    "    q.delq()\r\n",
    "    print(q)\r\n",
    "print(q.isempty())"
   ],
   "outputs": [
    {
     "output_type": "stream",
     "name": "stdout",
     "text": [
      "[1, 2]\n",
      "[2]\n",
      "[]\n",
      "True\n"
     ]
    }
   ],
   "metadata": {}
  },
  {
   "cell_type": "markdown",
   "source": [
    "# BFS"
   ],
   "metadata": {}
  },
  {
   "cell_type": "code",
   "execution_count": 5,
   "source": [
    "def neighbours(Amat, i):\r\n",
    "    rows,columns = Amat.shape()\r\n",
    "    nbrs = []\r\n",
    "    for j in range(columns):\r\n",
    "        if Amat[i,j] == 1:\r\n",
    "            nbrs.append(j)\r\n",
    "    return nbrs"
   ],
   "outputs": [],
   "metadata": {}
  },
  {
   "cell_type": "code",
   "execution_count": 4,
   "source": [
    "def BFS(Amat, v):\r\n",
    "    rows,columns = Amat.shape()\r\n",
    "    visited  = {}\r\n",
    "    for i in range(rows):\r\n",
    "        visited[i] = False\r\n",
    "    \r\n",
    "    q = Queue()\r\n",
    "    q.addq(v)\r\n",
    "\r\n",
    "    while not q.isempty():\r\n",
    "        j = q.delq()\r\n",
    "        for k in neighbours(Amat,j):\r\n",
    "            \r\n",
    "            visited[k] = True\r\n",
    "            q.addq(k)\r\n",
    "\r\n",
    "    return visited"
   ],
   "outputs": [],
   "metadata": {}
  },
  {
   "cell_type": "code",
   "execution_count": 6,
   "source": [
    "def BFSlist(Alist,v):\r\n",
    "    visited = {}\r\n",
    "    for i in Alist.keys():\r\n",
    "        visited[i] = False\r\n",
    "    \r\n",
    "    q = Queue()\r\n",
    "    q.addq(v)\r\n",
    "\r\n",
    "    while not q.isempty():\r\n",
    "        j = q.delq()\r\n",
    "        for k in Alist[j]:\r\n",
    "            visited[k]=True\r\n",
    "            q.addq(k)\r\n",
    "\r\n",
    "    return visited"
   ],
   "outputs": [],
   "metadata": {}
  },
  {
   "cell_type": "code",
   "execution_count": 7,
   "source": [
    "def BFSlistpath(Alist, v):\r\n",
    "    visited,parent = {},{}\r\n",
    "    for i in Alist.keys():\r\n",
    "        visited[i] = False\r\n",
    "        parent[i] = -1\r\n",
    "\r\n",
    "    q = Queue()\r\n",
    "    q.addq(v)\r\n",
    "\r\n",
    "    while not q.isempty():\r\n",
    "        j = q.delq()\r\n",
    "        for k in Alist[j]:\r\n",
    "            visited[k] = True\r\n",
    "            parent[k] = j\r\n",
    "            q.addq(k)\r\n",
    "    return (visited,parent)"
   ],
   "outputs": [],
   "metadata": {}
  },
  {
   "cell_type": "code",
   "execution_count": 8,
   "source": [
    "def BFSlistPathLevel(Alist,v):\r\n",
    "    level,parent = {},{}\r\n",
    "    for i in Alist.keys():\r\n",
    "        level[i] = -1\r\n",
    "        parent[i] = -1\r\n",
    "\r\n",
    "    q = Queue()\r\n",
    "    level[v]=0\r\n",
    "    q.addq(v)\r\n",
    "\r\n",
    "    while not q.isempty():\r\n",
    "        j = q.delq()\r\n",
    "        for k in Alist[j]:\r\n",
    "            level[k] = level[j]+1\r\n",
    "            parent[k]= j\r\n",
    "            q.addq(k)\r\n",
    "    return (level,parent)"
   ],
   "outputs": [],
   "metadata": {}
  },
  {
   "cell_type": "markdown",
   "source": [
    "# DFS"
   ],
   "metadata": {}
  },
  {
   "cell_type": "code",
   "execution_count": 9,
   "source": [
    "def DFSInit(Amat):\r\n",
    "    rows,columns = Amat.shape()\r\n",
    "    visited, parent = {},{}\r\n",
    "    for i in range(rows):\r\n",
    "        visited[i]=False\r\n",
    "        parent[i] = -1\r\n",
    "\r\n",
    "    return (visited,parent)\r\n",
    "\r\n",
    "def DFS(Amat,visited,parent,v):\r\n",
    "    visited[v]=True\r\n",
    "\r\n",
    "    for k in neighbours(Amat,v):\r\n",
    "        if (not visited[k]):\r\n",
    "            parent[k] = v\r\n",
    "            visited,parent = DFS(Amat,visited,parent,k)\r\n",
    "\r\n",
    "    return (visited,parent)"
   ],
   "outputs": [],
   "metadata": {}
  },
  {
   "cell_type": "code",
   "execution_count": 2,
   "source": [
    "visited,parent = {},{}\r\n",
    "def DFSInit(Alist):\r\n",
    "    for i in Alist.keys():\r\n",
    "        visited[i] = False\r\n",
    "        parent[i]=-1\r\n",
    "    return\r\n",
    "\r\n",
    "def DFSList(Alist,v):\r\n",
    "    visited[v]=True\r\n",
    "    for k in Alist[v]:\r\n",
    "        if (not visited[k]):\r\n",
    "            parent[k]=v\r\n",
    "            DFSList(Alist,k)\r\n",
    "    return\r\n",
    "    "
   ],
   "outputs": [],
   "metadata": {}
  },
  {
   "cell_type": "code",
   "execution_count": null,
   "source": [],
   "outputs": [],
   "metadata": {}
  }
 ],
 "metadata": {
  "orig_nbformat": 4,
  "language_info": {
   "name": "python",
   "version": "3.9.6",
   "mimetype": "text/x-python",
   "codemirror_mode": {
    "name": "ipython",
    "version": 3
   },
   "pygments_lexer": "ipython3",
   "nbconvert_exporter": "python",
   "file_extension": ".py"
  },
  "kernelspec": {
   "name": "python3",
   "display_name": "Python 3.9.6 64-bit"
  },
  "interpreter": {
   "hash": "ab11d4631bdbf480bab8056aa9a03458b7eebdd62f362224c527678da3611864"
  }
 },
 "nbformat": 4,
 "nbformat_minor": 2
}
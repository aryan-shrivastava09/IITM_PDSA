{
 "cells": [
  {
   "cell_type": "code",
   "execution_count": 26,
   "metadata": {},
   "outputs": [],
   "source": [
    "edges = [(0,1),(1,2),(2,0),(0,4),(4,0),(4,3),(4,7),(3,4),(3,6),(5,3),(5,7),(6,5),(7,8),(7,4),(8,5),(8,9),(9,8)]"
   ]
  },
  {
   "cell_type": "code",
   "execution_count": 27,
   "metadata": {},
   "outputs": [],
   "source": [
    "import numpy as np"
   ]
  },
  {
   "cell_type": "code",
   "execution_count": 28,
   "metadata": {},
   "outputs": [],
   "source": [
    "A = np.zeros(shape = (10,10))"
   ]
  },
  {
   "cell_type": "code",
   "execution_count": 29,
   "metadata": {},
   "outputs": [],
   "source": [
    "for (i,j) in edges:\n",
    "    A[i,j] = 1"
   ]
  },
  {
   "cell_type": "code",
   "execution_count": 30,
   "metadata": {},
   "outputs": [
    {
     "data": {
      "text/plain": [
       "array([[0., 1., 0., 0., 1., 0., 0., 0., 0., 0.],\n",
       "       [0., 0., 1., 0., 0., 0., 0., 0., 0., 0.],\n",
       "       [1., 0., 0., 0., 0., 0., 0., 0., 0., 0.],\n",
       "       [0., 0., 0., 0., 1., 0., 1., 0., 0., 0.],\n",
       "       [1., 0., 0., 1., 0., 0., 0., 1., 0., 0.],\n",
       "       [0., 0., 0., 1., 0., 0., 0., 1., 0., 0.],\n",
       "       [0., 0., 0., 0., 0., 1., 0., 0., 0., 0.],\n",
       "       [0., 0., 0., 0., 1., 0., 0., 0., 1., 0.],\n",
       "       [0., 0., 0., 0., 0., 1., 0., 0., 0., 1.],\n",
       "       [0., 0., 0., 0., 0., 0., 0., 0., 1., 0.]])"
      ]
     },
     "execution_count": 30,
     "metadata": {},
     "output_type": "execute_result"
    }
   ],
   "source": [
    "A"
   ]
  },
  {
   "cell_type": "code",
   "execution_count": 31,
   "metadata": {},
   "outputs": [],
   "source": [
    "def neighbours(Amat, i):\n",
    "    nbrs = []\n",
    "    rows,cols = Amat.shape\n",
    "    for j in range(cols):\n",
    "        if A[i,j]==1:\n",
    "            nbrs.append(j)\n",
    "    return nbrs"
   ]
  },
  {
   "cell_type": "code",
   "execution_count": 32,
   "metadata": {},
   "outputs": [
    {
     "name": "stdout",
     "output_type": "stream",
     "text": [
      "[0, 3, 7]\n",
      "[4, 8]\n"
     ]
    }
   ],
   "source": [
    "print(neighbours(A,4))\n",
    "print(neighbours(A,7))"
   ]
  },
  {
   "cell_type": "code",
   "execution_count": 33,
   "metadata": {},
   "outputs": [],
   "source": [
    "def degree(Amat,i):\n",
    "    return int(sum(Amat[i]))"
   ]
  },
  {
   "cell_type": "code",
   "execution_count": 34,
   "metadata": {},
   "outputs": [
    {
     "name": "stdout",
     "output_type": "stream",
     "text": [
      "[0, 3, 7]\n",
      "3\n"
     ]
    }
   ],
   "source": [
    "print(neighbours(A,4))\n",
    "print(degree(A,4))"
   ]
  },
  {
   "cell_type": "markdown",
   "metadata": {},
   "source": [
    "## However the representation matrix above is of a directed graph\n",
    "* Directed graph can have only one kind of degree (number of outgoing edges from a vertex)\n",
    "* Undirected graph can possess two types of degrees\n",
    "    * Indegree (number of edges incident on a vertex)\n",
    "    * outdegree (number of edges outgoing from a vertex)"
   ]
  },
  {
   "cell_type": "markdown",
   "metadata": {},
   "source": [
    "## Adjacency List"
   ]
  },
  {
   "cell_type": "code",
   "execution_count": 35,
   "metadata": {},
   "outputs": [],
   "source": [
    "def adjacency_list(Amat):\n",
    "    Alist = {}\n",
    "    rows,cols = Amat.shape\n",
    "    for i in range(rows):\n",
    "        Alist[i] = neighbours(Amat,i)\n",
    "    return Alist"
   ]
  },
  {
   "cell_type": "code",
   "execution_count": 36,
   "metadata": {},
   "outputs": [
    {
     "name": "stdout",
     "output_type": "stream",
     "text": [
      "{0: [1, 4], 1: [2], 2: [0], 3: [4, 6], 4: [0, 3, 7], 5: [3, 7], 6: [5], 7: [4, 8], 8: [5, 9], 9: [8]}\n"
     ]
    }
   ],
   "source": [
    "print(adjacency_list(A))"
   ]
  },
  {
   "cell_type": "code",
   "execution_count": 37,
   "metadata": {},
   "outputs": [],
   "source": [
    "Alist = {}\n",
    "def adjacency_list_2(edges):\n",
    "    for i in range(10):\n",
    "        Alist[i] = []\n",
    "    for (i,j) in edges:\n",
    "        Alist[i].append(j)"
   ]
  },
  {
   "cell_type": "code",
   "execution_count": 38,
   "metadata": {},
   "outputs": [
    {
     "name": "stdout",
     "output_type": "stream",
     "text": [
      "{0: [1, 4], 1: [2], 2: [0], 3: [4, 6], 4: [0, 3, 7], 5: [3, 7], 6: [5], 7: [8, 4], 8: [5, 9], 9: [8]}\n"
     ]
    }
   ],
   "source": [
    "adjacency_list_2(edges)\n",
    "print(Alist)"
   ]
  },
  {
   "cell_type": "markdown",
   "metadata": {},
   "source": [
    "## Breadth First Search\n",
    "* Underlying data structure used - Queue\n",
    "\n",
    "### Queue\n",
    "* First in - First out"
   ]
  },
  {
   "cell_type": "code",
   "execution_count": 39,
   "metadata": {},
   "outputs": [],
   "source": [
    "class Queue():\n",
    "    def __init__(self) -> None:\n",
    "        self.queue = []\n",
    "    \n",
    "    def addq(self,v):\n",
    "        self.queue.append(v)\n",
    "    \n",
    "    def delq(self):\n",
    "        v = None\n",
    "        if not self.isempty():\n",
    "            v = self.queue[0]\n",
    "            self.queue = self.queue[1:]\n",
    "        return v\n",
    "    \n",
    "    def isempty(self):\n",
    "        return self.queue==[]\n",
    "    \n",
    "    def __str__(self) -> str:\n",
    "        return str(self.queue)"
   ]
  },
  {
   "cell_type": "code",
   "execution_count": 40,
   "metadata": {},
   "outputs": [
    {
     "name": "stdout",
     "output_type": "stream",
     "text": [
      "[0]\n",
      "[0, 1]\n",
      "[0, 1, 2]\n",
      "False\n",
      "[1, 2]\n",
      "[2]\n",
      "[]\n",
      "True\n"
     ]
    }
   ],
   "source": [
    "q = Queue()\n",
    "\n",
    "for i in range(3):\n",
    "    q.addq(i)\n",
    "    print(q)\n",
    "print(q.isempty())\n",
    "for i in range(3):\n",
    "    q.delq()\n",
    "    print(q)\n",
    "print(q.isempty())"
   ]
  },
  {
   "cell_type": "code",
   "execution_count": 44,
   "metadata": {},
   "outputs": [],
   "source": [
    "def neighbours(Amat,i):\n",
    "    nbrs = []\n",
    "    rows,cols = Amat.shape\n",
    "    for j in range(cols):\n",
    "        if A[i,j] == 1:\n",
    "            nbrs.append(j)\n",
    "    return nbrs"
   ]
  },
  {
   "cell_type": "code",
   "execution_count": 47,
   "metadata": {},
   "outputs": [],
   "source": [
    "def BFS(Amat,v):\n",
    "    rows,cols = Amat.shape\n",
    "    visited = {}\n",
    "    for i in range(rows):\n",
    "        visited[i] = False\n",
    "    q = Queue()\n",
    "    visited[v] = True\n",
    "    q.addq(v)\n",
    "\n",
    "    while not q.isempty():\n",
    "        j = q.delq()\n",
    "        for k in neighbours(Amat,j):\n",
    "            if not visited[k]:\n",
    "                visited[k] = True\n",
    "                q.addq(k)\n",
    "    \n",
    "    return visited\n"
   ]
  },
  {
   "cell_type": "code",
   "execution_count": 48,
   "metadata": {},
   "outputs": [
    {
     "name": "stdout",
     "output_type": "stream",
     "text": [
      "{0: True, 1: True, 2: True, 3: True, 4: True, 5: True, 6: True, 7: True, 8: True, 9: True}\n"
     ]
    }
   ],
   "source": [
    "print(BFS(A,4))"
   ]
  },
  {
   "cell_type": "markdown",
   "metadata": {},
   "source": [
    "### Using adjacency list and recording parent"
   ]
  },
  {
   "cell_type": "code",
   "execution_count": 50,
   "metadata": {},
   "outputs": [],
   "source": [
    "def BFSAListPath(Alist, v):\n",
    "    visited, parent = {}, {}\n",
    "    for i in Alist.keys():\n",
    "        visited[i] = False\n",
    "        parent[i] = -1\n",
    "    \n",
    "    q= Queue()\n",
    "    visited[v] = True\n",
    "    q.addq(v)\n",
    "\n",
    "    while not q.isempty():\n",
    "        j = q.delq()\n",
    "        for k in Alist[j]:\n",
    "            if not visited[k]:\n",
    "                visited[k] = True\n",
    "                parent[k] = j\n",
    "                q.addq(k)\n",
    "    \n",
    "    return (visited,parent)\n"
   ]
  },
  {
   "cell_type": "code",
   "execution_count": 51,
   "metadata": {},
   "outputs": [
    {
     "name": "stdout",
     "output_type": "stream",
     "text": [
      "visited:  {0: True, 1: True, 2: True, 3: True, 4: True, 5: True, 6: True, 7: True, 8: True, 9: True}\n",
      "parent:  {0: 4, 1: 0, 2: 1, 3: 4, 4: -1, 5: 6, 6: 3, 7: 4, 8: 7, 9: 8}\n"
     ]
    }
   ],
   "source": [
    "output = BFSAListPath(Alist,4)\n",
    "print(\"visited: \",output[0])\n",
    "print(\"parent: \",output[1])"
   ]
  },
  {
   "cell_type": "markdown",
   "metadata": {},
   "source": [
    "### Recording parent and distance (level)"
   ]
  },
  {
   "cell_type": "code",
   "execution_count": 53,
   "metadata": {},
   "outputs": [],
   "source": [
    "def BFSLevel(Alist,v):\n",
    "    level,parent = {},{}\n",
    "    for i in Alist.keys():\n",
    "        level[i] = -1\n",
    "        parent[i] = -1\n",
    "    \n",
    "    q= Queue()\n",
    "    level[v] = 0\n",
    "    q.addq(v)\n",
    "\n",
    "    while not q.isempty():\n",
    "        j = q.delq()\n",
    "        for k in Alist[j]:\n",
    "            if level[k] == -1:\n",
    "                level[k] = level[j]+1\n",
    "                parent[k] = j\n",
    "                q.addq(k)\n",
    "    \n",
    "    return (level,parent)"
   ]
  },
  {
   "cell_type": "code",
   "execution_count": 54,
   "metadata": {},
   "outputs": [
    {
     "name": "stdout",
     "output_type": "stream",
     "text": [
      "level:  {0: 1, 1: 2, 2: 3, 3: 1, 4: 0, 5: 3, 6: 2, 7: 1, 8: 2, 9: 3}\n",
      "parent:  {0: 4, 1: 0, 2: 1, 3: 4, 4: -1, 5: 6, 6: 3, 7: 4, 8: 7, 9: 8}\n"
     ]
    }
   ],
   "source": [
    "output = BFSLevel(Alist, 4)\n",
    "print(\"level: \",output[0])\n",
    "print(\"parent: \", output[1])"
   ]
  },
  {
   "cell_type": "code",
   "execution_count": null,
   "metadata": {},
   "outputs": [],
   "source": []
  }
 ],
 "metadata": {
  "interpreter": {
   "hash": "916dbcbb3f70747c44a77c7bcd40155683ae19c65e1c03b4aa3499c5328201f1"
  },
  "kernelspec": {
   "display_name": "Python 3.8.10 64-bit",
   "name": "python3"
  },
  "language_info": {
   "codemirror_mode": {
    "name": "ipython",
    "version": 3
   },
   "file_extension": ".py",
   "mimetype": "text/x-python",
   "name": "python",
   "nbconvert_exporter": "python",
   "pygments_lexer": "ipython3",
   "version": "3.8.10"
  },
  "orig_nbformat": 4
 },
 "nbformat": 4,
 "nbformat_minor": 2
}

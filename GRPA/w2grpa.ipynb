{
 "cells": [
  {
   "cell_type": "markdown",
   "metadata": {},
   "source": [
    "## GRPA 1"
   ]
  },
  {
   "cell_type": "code",
   "execution_count": 1,
   "metadata": {},
   "outputs": [],
   "source": [
    "def merge(A,B):\n",
    "    m,n = len(A),len(B)\n",
    "    C,i,j,k = [],0,0,0\n",
    "    while k<m+n:\n",
    "        if i==m:\n",
    "            C.extend(B[j:])\n",
    "            k+=(n-j)\n",
    "        elif j==n:\n",
    "            C.extend(A[i:])\n",
    "            k+=(m-i)\n",
    "        elif A[i][0]<B[j][0]:\n",
    "            C.append(A[i])\n",
    "            i,k = i+1,k+1\n",
    "        else:\n",
    "            C.append(B[j])\n",
    "            j,k = j+1,k+1\n",
    "    return C\n",
    "\n",
    "def numbersort(l):\n",
    "    n = len(l)\n",
    "    if n<1:\n",
    "        return l\n",
    "    for i in range(n):\n",
    "        j=i\n",
    "        while j!=0 and int(l[j][1:])>int(l[j-1][1:]):\n",
    "            if l[j][0] == l[j-1][0]:\n",
    "                l[j],l[j-1] = l[j-1],l[j]\n",
    "            j = j-1\n",
    "    return l\n",
    "\n",
    "def mergesort(l):\n",
    "    n = len(l)\n",
    "    if n<=1:\n",
    "        return l\n",
    "    L = mergesort(l[:n//2])\n",
    "    R = mergesort(l[n//2:])\n",
    "    l2 = merge(L,R)\n",
    "    return l2\n",
    "\n",
    "def combinationsort(strlist):\n",
    "    l1 = mergesort(strlist)\n",
    "    temp = l1\n",
    "    l2 = numbersort(temp)\n",
    "    return l1, l2 \n"
   ]
  },
  {
   "cell_type": "code",
   "execution_count": 2,
   "metadata": {},
   "outputs": [
    {
     "name": "stdout",
     "output_type": "stream",
     "text": [
      "(['b87', 'c65', 'd77', 'd34', 'd12', 'g54', 'g40', 'g5', 'g1'], ['b87', 'c65', 'd77', 'd34', 'd12', 'g54', 'g40', 'g5', 'g1'])\n"
     ]
    }
   ],
   "source": [
    "L = ['d34', 'g54', 'd12', 'b87', 'g1', 'c65', 'g40', 'g5', 'd77']\n",
    "\n",
    "print(combinationsort(L))"
   ]
  },
  {
   "cell_type": "markdown",
   "metadata": {},
   "source": [
    "## GRPA 2"
   ]
  },
  {
   "cell_type": "code",
   "execution_count": 3,
   "metadata": {},
   "outputs": [
    {
     "name": "stdout",
     "output_type": "stream",
     "text": [
      "8\n"
     ]
    }
   ],
   "source": [
    "def findlargest(l):\n",
    "    left = 0\n",
    "    s = len(l)\n",
    "    right = s-1\n",
    "\n",
    "    if s==1:\n",
    "        return l[0]\n",
    "\n",
    "    while left<=right:\n",
    "        mid = (left+right)//2\n",
    "\n",
    "        if mid==s-1:\n",
    "            nexttomid = 0\n",
    "        else:\n",
    "            nexttomid = mid+1\n",
    "\n",
    "        if l[mid] > l[nexttomid]:\n",
    "            return l[mid]\n",
    "        elif l[mid]<l[0]:\n",
    "            right = mid -1\n",
    "        else:\n",
    "            left = mid +1\n",
    "\n",
    "print(findlargest([7, 8, 2, 4, 5, 6]))"
   ]
  },
  {
   "cell_type": "markdown",
   "metadata": {},
   "source": [
    "## GRPA 3"
   ]
  },
  {
   "cell_type": "code",
   "execution_count": null,
   "metadata": {},
   "outputs": [],
   "source": []
  }
 ],
 "metadata": {
  "interpreter": {
   "hash": "916dbcbb3f70747c44a77c7bcd40155683ae19c65e1c03b4aa3499c5328201f1"
  },
  "kernelspec": {
   "display_name": "Python 3.8.10 64-bit",
   "name": "python3"
  },
  "language_info": {
   "codemirror_mode": {
    "name": "ipython",
    "version": 3
   },
   "file_extension": ".py",
   "mimetype": "text/x-python",
   "name": "python",
   "nbconvert_exporter": "python",
   "pygments_lexer": "ipython3",
   "version": "3.8.10"
  },
  "orig_nbformat": 4
 },
 "nbformat": 4,
 "nbformat_minor": 2
}

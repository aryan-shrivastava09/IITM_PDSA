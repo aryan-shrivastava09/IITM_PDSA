{
 "cells": [
  {
   "cell_type": "code",
   "execution_count": 1,
   "metadata": {},
   "outputs": [],
   "source": [
    "edges = [(0,1),(0,4),(1,2),(2,0),(3,4),(3,6),(4,0),(4,3),(4,7),(5,3),(5,7),(6,5),(7,4),(7,8),(8,5),(8,9),(9,8)]"
   ]
  },
  {
   "cell_type": "code",
   "execution_count": 5,
   "metadata": {},
   "outputs": [],
   "source": [
    "import numpy as np\n",
    "Amat = np.zeros(shape= (10,10))\n",
    "for i,j in edges:\n",
    "    Amat[i,j] = 1"
   ]
  },
  {
   "cell_type": "code",
   "execution_count": 6,
   "metadata": {},
   "outputs": [
    {
     "name": "stdout",
     "output_type": "stream",
     "text": [
      "array([[0., 1., 0., 0., 1., 0., 0., 0., 0., 0.],\n",
      "       [0., 0., 1., 0., 0., 0., 0., 0., 0., 0.],\n",
      "       [1., 0., 0., 0., 0., 0., 0., 0., 0., 0.],\n",
      "       [0., 0., 0., 0., 1., 0., 1., 0., 0., 0.],\n",
      "       [1., 0., 0., 1., 0., 0., 0., 1., 0., 0.],\n",
      "       [0., 0., 0., 1., 0., 0., 0., 1., 0., 0.],\n",
      "       [0., 0., 0., 0., 0., 1., 0., 0., 0., 0.],\n",
      "       [0., 0., 0., 0., 1., 0., 0., 0., 1., 0.],\n",
      "       [0., 0., 0., 0., 0., 1., 0., 0., 0., 1.],\n",
      "       [0., 0., 0., 0., 0., 0., 0., 0., 1., 0.]])\n"
     ]
    }
   ],
   "source": [
    "from pprint import pprint\n",
    "pprint(Amat) "
   ]
  },
  {
   "cell_type": "code",
   "execution_count": 7,
   "metadata": {},
   "outputs": [],
   "source": [
    "Alist = {}\n",
    "for i in range(10):\n",
    "    Alist[i] = []\n",
    "for i,j in edges:\n",
    "    Alist[i].append(j)"
   ]
  },
  {
   "cell_type": "code",
   "execution_count": 8,
   "metadata": {},
   "outputs": [
    {
     "name": "stdout",
     "output_type": "stream",
     "text": [
      "{0: [1, 4], 1: [2], 2: [0], 3: [4, 6], 4: [0, 3, 7], 5: [3, 7], 6: [5], 7: [4, 8], 8: [5, 9], 9: [8]}\n"
     ]
    }
   ],
   "source": [
    "print(Alist)"
   ]
  },
  {
   "cell_type": "code",
   "execution_count": 9,
   "metadata": {},
   "outputs": [],
   "source": [
    "def Neighbours(Amat, i):\n",
    "    nbrs = []\n",
    "    rows,cols = Amat.shape\n",
    "    for j in range(cols):\n",
    "        if Amat[i,j] == 1:\n",
    "            nbrs.append(j)\n",
    "    return nbrs"
   ]
  },
  {
   "cell_type": "code",
   "execution_count": 10,
   "metadata": {},
   "outputs": [
    {
     "name": "stdout",
     "output_type": "stream",
     "text": [
      "[0, 3, 7]\n"
     ]
    }
   ],
   "source": [
    "print(Neighbours(Amat, 4))"
   ]
  },
  {
   "cell_type": "code",
   "execution_count": 23,
   "metadata": {},
   "outputs": [],
   "source": [
    "class Queue:\n",
    "    def __init__(self):\n",
    "        self.queue = []\n",
    "\n",
    "    def addq(self,v):\n",
    "        self.queue.append(v)\n",
    "    \n",
    "    def delq(self):\n",
    "        value = None\n",
    "        if self.isempty():\n",
    "            return\n",
    "        if not self.isempty():\n",
    "            value = self.queue[0]\n",
    "            self.queue = self.queue[1:]\n",
    "        return value\n",
    "    \n",
    "    def isempty(self):\n",
    "        return (self.queue == [])\n",
    "\n",
    "    def __str__(self):\n",
    "        return (str(self.queue))"
   ]
  },
  {
   "cell_type": "markdown",
   "metadata": {},
   "source": [
    "## BFS"
   ]
  },
  {
   "cell_type": "code",
   "execution_count": 28,
   "metadata": {},
   "outputs": [],
   "source": [
    "def BFS(Amat ,v):\n",
    "    rows, cols = Amat.shape\n",
    "    visited, parent, level = {}, {}, {}\n",
    "    for i in range(rows):\n",
    "        visited[i] = False\n",
    "        parent[i] = -1\n",
    "        level[i] = -1\n",
    "\n",
    "    q = Queue()\n",
    "    q.addq(v)\n",
    "    visited[v] = True\n",
    "    level[v] +=1\n",
    "\n",
    "    while (not q.isempty()):\n",
    "        j = q.delq()\n",
    "        for k in Neighbours(Amat, j):\n",
    "            if not visited[k]:\n",
    "                visited[k] = True\n",
    "                level[k] = level[j]+1\n",
    "                parent[k] = j\n",
    "                q.addq(k)\n",
    "    return visited,parent,level"
   ]
  },
  {
   "cell_type": "code",
   "execution_count": 29,
   "metadata": {},
   "outputs": [
    {
     "name": "stdout",
     "output_type": "stream",
     "text": [
      "{0: True, 1: True, 2: True, 3: True, 4: True, 5: True, 6: True, 7: True, 8: True, 9: True}\n",
      "{0: 4, 1: 0, 2: 1, 3: 4, 4: -1, 5: 6, 6: 3, 7: 4, 8: 7, 9: 8}\n",
      "{0: 1, 1: 2, 2: 3, 3: 1, 4: 0, 5: 3, 6: 2, 7: 1, 8: 2, 9: 3}\n"
     ]
    }
   ],
   "source": [
    "result = BFS(Amat, 4)\n",
    "print(result[0])\n",
    "print(result[1])\n",
    "print(result[2])"
   ]
  },
  {
   "cell_type": "code",
   "execution_count": 33,
   "metadata": {},
   "outputs": [],
   "source": [
    "def BFS(Alist, v):\n",
    "    visited, parent, level = {}, {}, {}\n",
    "    for i in Alist.keys():\n",
    "        visited[i] = False\n",
    "        parent[i] = -1\n",
    "        level[i] = -1\n",
    "\n",
    "    q = Queue()\n",
    "    q.addq(v)\n",
    "    visited[v] = True\n",
    "    level[v] += 1\n",
    "\n",
    "    while not q.isempty():\n",
    "        j = q.delq()\n",
    "        for k in Alist[j]:\n",
    "            if not visited[k]:\n",
    "                visited[k] = True\n",
    "                parent[k] = j \n",
    "                level[k] = level[j] +1\n",
    "                q.addq(k)\n",
    "    return visited, parent, level"
   ]
  },
  {
   "cell_type": "code",
   "execution_count": 34,
   "metadata": {},
   "outputs": [
    {
     "name": "stdout",
     "output_type": "stream",
     "text": [
      "{0: True, 1: True, 2: True, 3: True, 4: True, 5: True, 6: True, 7: True, 8: True, 9: True}\n",
      "{0: 4, 1: 0, 2: 1, 3: 4, 4: -1, 5: 6, 6: 3, 7: 4, 8: 7, 9: 8}\n",
      "{0: 1, 1: 2, 2: 3, 3: 1, 4: 0, 5: 3, 6: 2, 7: 1, 8: 2, 9: 3}\n"
     ]
    }
   ],
   "source": [
    "result = BFS(Alist, 4)\n",
    "print(result[0])\n",
    "print(result[1])\n",
    "print(result[2])"
   ]
  },
  {
   "cell_type": "markdown",
   "metadata": {},
   "source": [
    "## DFS"
   ]
  },
  {
   "cell_type": "code",
   "execution_count": 35,
   "metadata": {},
   "outputs": [
    {
     "name": "stdout",
     "output_type": "stream",
     "text": [
      "{0: True, 1: True, 2: True, 3: True, 4: True, 5: True, 6: True, 7: True, 8: True, 9: True}\n",
      "{0: 4, 1: 0, 2: 1, 3: 4, 4: -1, 5: 6, 6: 3, 7: 5, 8: 7, 9: 8}\n"
     ]
    }
   ],
   "source": [
    "visited, parent = {}, {}\n",
    "def DFSinit(Alist):\n",
    "    for i in Alist.keys():\n",
    "        visited[i] = False\n",
    "        parent[i] = -1\n",
    "\n",
    "def DFS(Alist ,v):\n",
    "    visited[v] = True\n",
    "    for k in Alist[v]:\n",
    "        if not visited[k]:\n",
    "            parent[k] = v\n",
    "            DFS(Alist, k)\n",
    "    \n",
    "    return\n",
    "\n",
    "DFSinit(Alist)\n",
    "DFS(Alist, 4)\n",
    "print(visited)\n",
    "print(parent)"
   ]
  },
  {
   "cell_type": "code",
   "execution_count": 36,
   "metadata": {},
   "outputs": [],
   "source": [
    "def components(Alist):\n",
    "    component ={}\n",
    "    for i in Alist.keys():\n",
    "        component[i] = -1\n",
    "    \n",
    "    compid, seen = 0,0 \n",
    "\n",
    "    while seen <= max(Alist.keys):\n",
    "        startv = min([i for i in Alist.keys if component[i] == -1])\n",
    "        visited = BFS(Alist, startv)\n",
    "        for i in visited.keys():\n",
    "            if visited[i]:\n",
    "                seen+=1\n",
    "                component[i] = compid\n",
    "        compid +=1\n",
    "\n",
    "    return component"
   ]
  },
  {
   "cell_type": "markdown",
   "metadata": {},
   "source": [
    "DFS TREE"
   ]
  },
  {
   "cell_type": "code",
   "execution_count": 37,
   "metadata": {},
   "outputs": [],
   "source": [
    "pre, post, visited = {}, {}, {}\n",
    "\n",
    "def dfsinit(Alist):\n",
    "    for i in Alist.keys():\n",
    "        visited[i] = False\n",
    "        pre[i], post[i] = -1, -1\n",
    "\n",
    "def dfs(Alist,v,count):\n",
    "    visited[v] = True\n",
    "    pre[v] = count\n",
    "    for k in Alist[v]:\n",
    "        if not visited[k]:\n",
    "            count = dfs(Alist, k, count)\n",
    "    post[v] = count\n",
    "    count+=1\n",
    "\n",
    "    return count"
   ]
  },
  {
   "cell_type": "markdown",
   "metadata": {},
   "source": [
    "## Topological Sorting"
   ]
  },
  {
   "cell_type": "code",
   "execution_count": 38,
   "metadata": {},
   "outputs": [],
   "source": [
    "def topsort(Alist):\n",
    "    indegree = {}\n",
    "    topsortlist = []\n",
    "\n",
    "    for u in Alist.keys():\n",
    "        indegree[u] = 0\n",
    "    for u in Alist.keys():\n",
    "        for v in Alist[u]:\n",
    "            indegree[v]+=1\n",
    "\n",
    "    zerodegreequeue = Queue()\n",
    "    for u in Alist.keys():\n",
    "        if indegree[u] == 0:\n",
    "            zerodegreequeue.addq(u)\n",
    "    \n",
    "    while not zerodegreequeue.isempty():\n",
    "        j = zerodegreequeue.delq()\n",
    "        topsortlist.append(j)\n",
    "        indegree[j] = indegree[j]-1\n",
    "        for k in Alist[j]:\n",
    "            indegree[k] -= 1\n",
    "            if indegree[k] == 0:\n",
    "                zerodegreequeue.addq(k)\n",
    "\n",
    "    return topsortlist"
   ]
  },
  {
   "cell_type": "markdown",
   "metadata": {},
   "source": [
    "## Longest Path"
   ]
  },
  {
   "cell_type": "code",
   "execution_count": 40,
   "metadata": {},
   "outputs": [],
   "source": [
    "def longestpath(Alist):\n",
    "    lpath = {}\n",
    "    indegree = {}\n",
    "    for u in Alist.keys():\n",
    "        indegree[u] = 0\n",
    "        lpath[u] = 0\n",
    "    for u in Alist.keys():\n",
    "        for v in Alist[u]:\n",
    "            indegree[v] += 1\n",
    "    \n",
    "    zerodegreequeue = Queue()\n",
    "\n",
    "    for u in Alist.keys():\n",
    "        if indegree[u] == 0:\n",
    "            zerodegreequeue.addq(u)\n",
    "    \n",
    "    while not zerodegreequeue.isempty():\n",
    "        j = zerodegreequeue.delq()\n",
    "        indegree[j] -=1\n",
    "        for k in Alist[j]:\n",
    "            indegree[k] -= 1\n",
    "            lpath[k] = max(lpath[k], lpath[j]+1)\n",
    "            if indegree[k] == 0:\n",
    "                zerodegreequeue.addq(k)\n",
    "    \n",
    "    return lpath"
   ]
  },
  {
   "cell_type": "code",
   "execution_count": 41,
   "metadata": {},
   "outputs": [
    {
     "name": "stdout",
     "output_type": "stream",
     "text": [
      "{0: 0, 1: 0, 2: 0, 3: 0, 4: 0, 5: 0, 6: 0, 7: 0, 8: 0, 9: 0}\n"
     ]
    }
   ],
   "source": [
    "print(longestpath(Alist))"
   ]
  },
  {
   "cell_type": "markdown",
   "metadata": {},
   "source": [
    "## Djikstra's Algorithm"
   ]
  },
  {
   "cell_type": "code",
   "execution_count": 2,
   "metadata": {},
   "outputs": [],
   "source": [
    "def djikstra(Wlist, s):\n",
    "    infinity = 1 + max([d for v in Wlist.keys() for u,d in Wlist[v]])\n",
    "    visited, distance = {}, {}\n",
    "    for v in Wlist.keys():\n",
    "        distance[v], visited[v] = infinity, False\n",
    "    \n",
    "    distance[s] = 0\n",
    "\n",
    "    for v in Wlist.keys():\n",
    "        nextd = min([distance[k] for k in Wlist.keys if not visited[k]])\n",
    "        nextvlist = [k for k in Wlist.keys() if not visited[k] and distance[k]==nextd]\n",
    "\n",
    "        if nextvlist == []:\n",
    "            break\n",
    "\n",
    "        nextv = min(nextvlist)\n",
    "        visited[nextv] = True\n",
    "\n",
    "        for u,d in Wlist[nextv]:\n",
    "            if not visited[u]:\n",
    "                distance[u] = min(distance[u], distance[nextv] + d)\n",
    "\n",
    "    return distance\n"
   ]
  },
  {
   "cell_type": "markdown",
   "metadata": {},
   "source": [
    "## Bellman-ford algorithm"
   ]
  },
  {
   "cell_type": "code",
   "execution_count": 3,
   "metadata": {},
   "outputs": [],
   "source": [
    "def BellmanFord(Wlist,s):\n",
    "    infinity = 1+ max([d for u in Wlist.keys() for v,d in Wlist.keys()])\n",
    "    distance = {}\n",
    "    for u in Wlist.keys():\n",
    "        distance[u] = infinity\n",
    "\n",
    "    distance[s] = 0\n",
    "\n",
    "    for i in Wlist.keys():\n",
    "        for u in Wlist.keys():\n",
    "            for v,d in Wlist[u]:\n",
    "                distance[v] = min(distance[v], distance[u] + d)\n",
    "\n",
    "    return distance"
   ]
  },
  {
   "cell_type": "markdown",
   "metadata": {},
   "source": [
    "## Floyd-Warshall Algorithm"
   ]
  },
  {
   "cell_type": "code",
   "execution_count": 1,
   "metadata": {},
   "outputs": [],
   "source": [
    "def floydwarshall(Wmat):\n",
    "    rows, cols, x= Wmat.shape\n",
    "    infinity = np.max(Wmat)*rows + 1\n",
    "    SP = np.zeros(shape=(rows,cols,cols+1))\n",
    "\n",
    "    for i in range(rows):\n",
    "        for j in range(cols):\n",
    "            SP[i,j,0] = infinity\n",
    "\n",
    "    for i in range(rows):\n",
    "        for j in range(cols):\n",
    "            if Wmat[i,j,0] == 1:\n",
    "                SP[i,j,0] = Wmat[i,j,1]\n",
    "\n",
    "    for k in range(1,cols+1):\n",
    "        for i in range(rows):\n",
    "            for j in range(cols):\n",
    "                SP[i,j,k] = min(SP[i,j,k-1], SP[i, k-1,k-1]+SP[k-1,j,k-1])\n",
    "\n",
    "    return SP[:,:,cols]"
   ]
  },
  {
   "cell_type": "markdown",
   "metadata": {},
   "source": [
    "## Prim's Algorithm"
   ]
  },
  {
   "cell_type": "code",
   "execution_count": 2,
   "metadata": {},
   "outputs": [],
   "source": [
    "def primlist(Wlist):\n",
    "    infinity = 1 + max([d for u in Wlist.keys() for v,d in Wlist[u]])\n",
    "    visited, distance, nbr = {}, {}, {}\n",
    "\n",
    "    for u in Wlist.keys():\n",
    "        visited[u], distance[u], nbr[u] = False, infinity, -1\n",
    "\n",
    "    visited[0] = True\n",
    "    for v,d in Wlist[0]:\n",
    "        distance[v] = d\n",
    "        nbr[v] = 0\n",
    "\n",
    "    for u in Wlist.keys():\n",
    "        nextd = min([distance[v] for v in Wlist.keys() if not visited[v]])\n",
    "        nextvlist = [v for v in Wlist.keys() if not visited[v] and distance[v] == nextd]\n",
    "\n",
    "        if nextvlist==[]:\n",
    "            break\n",
    "\n",
    "        nextv = min(nextvlist)\n",
    "        visited[nextv] = True\n",
    "\n",
    "        for v,d in Wlist[nextv]:\n",
    "            if not visited[v]:\n",
    "                distance[v], nbr[v] = min(distance[v], d), nextv\n",
    "    \n",
    "    return nbr"
   ]
  },
  {
   "cell_type": "markdown",
   "metadata": {},
   "source": [
    "## Kruskal's Algorithm"
   ]
  },
  {
   "cell_type": "code",
   "execution_count": 4,
   "metadata": {},
   "outputs": [],
   "source": [
    "def kruskal(Wlist):\n",
    "    edges, components, TE = [], {}, []\n",
    "\n",
    "    for u in Wlist.keys():\n",
    "        edges = [(d,u,v) for u in Wlist.keys() for v,d in Wlist[u]]\n",
    "        components[u] = u\n",
    "    edges.sort()\n",
    "\n",
    "    for d,u,v in edges:\n",
    "        if components[u] != components[v]:\n",
    "            TE.append((u,v))\n",
    "            c = components[u]\n",
    "            for w in Wlist.keys():\n",
    "                if components[w] == c:\n",
    "                    components[w] = components[v]\n",
    "\n",
    "    return TE\n"
   ]
  },
  {
   "cell_type": "code",
   "execution_count": 8,
   "metadata": {},
   "outputs": [
    {
     "name": "stdout",
     "output_type": "stream",
     "text": [
      "1\n",
      "[3, 12, 14, 16, 15]\n"
     ]
    }
   ],
   "source": [
    "import heapq\n",
    "\n",
    "H = [14,12,1,3,15,16]\n",
    "\n",
    "heapq.heapify(H)\n",
    "print(heapq.heappop(H))\n",
    "\n",
    "print(H)"
   ]
  },
  {
   "cell_type": "code",
   "execution_count": 5,
   "metadata": {},
   "outputs": [
    {
     "name": "stdout",
     "output_type": "stream",
     "text": [
      "[1, 12, 3, 14, 15, 16, 4]\n",
      "[-16, -15, -4, -14, -12, -3, -1]\n"
     ]
    }
   ],
   "source": [
    "# to make a max heap\n",
    "\n",
    "H1 = [-1*i for i in H]\n",
    "heapq.heapify(H1)\n",
    "\n",
    "print(H)\n",
    "print(H1)"
   ]
  },
  {
   "cell_type": "code",
   "execution_count": 1,
   "metadata": {},
   "outputs": [],
   "source": [
    "def BFS(Alist, v):\n",
    "    visited, level, parent = {}, {}, {}\n",
    "    for u in Alist.keys():\n",
    "        visited[v], level[u], parent[u] = False, -1, -1\n",
    "\n",
    "    q = Queue()\n",
    "    q.addq(v)\n",
    "    visited[v] = True\n",
    "    level[v] = 0\n",
    "\n",
    "    while not q.isempty():\n",
    "        j = q.delq()\n",
    "        for k in Alist[j]:\n",
    "            if not visited[k]:\n",
    "                visited[k] = True\n",
    "                level[k] = level[j]+1\n",
    "                parent[k] = j\n",
    "                q.addq(k)\n",
    "\n",
    "    return (visited, level, parent)"
   ]
  },
  {
   "cell_type": "code",
   "execution_count": 2,
   "metadata": {},
   "outputs": [],
   "source": [
    "visited, parent = {}, {}\n",
    "\n",
    "def dfsinit(Alist):\n",
    "    for u in Alist.keys():\n",
    "        visited[u] = False\n",
    "        parent[u] = -1\n",
    "\n",
    "def DFS(Alist, v):\n",
    "    \n",
    "    visited[v] = True\n",
    "\n",
    "    for k in Alist[v]:\n",
    "        if not visited[k]:\n",
    "            parent[k] = v\n",
    "            DFS(Alist, k) "
   ]
  },
  {
   "cell_type": "markdown",
   "metadata": {},
   "source": [
    "## Connectivity"
   ]
  },
  {
   "cell_type": "code",
   "execution_count": 3,
   "metadata": {},
   "outputs": [],
   "source": [
    "def components(Alist):\n",
    "    component = {}\n",
    "    for u in Alist.keys():\n",
    "        component[u] = -1\n",
    "    \n",
    "    compid, seen = 0, 0\n",
    "\n",
    "    while seen<max(Alist.keys()):\n",
    "        startv = min([i for i in Alist.keys() if component[i] ==-1])\n",
    "        visited = BFS(Alist,startv)[0]\n",
    "        for k in visited.keys():\n",
    "            if visited[k]:\n",
    "                seen +=1\n",
    "                component[k] = compid\n",
    "        compid +=1"
   ]
  },
  {
   "cell_type": "code",
   "execution_count": 5,
   "metadata": {},
   "outputs": [],
   "source": [
    "visited, pre, post = {}, {}, {}\n",
    "def dfstreeinit(Alist):\n",
    "    for i in Alist.keys():\n",
    "        visited[i], pre[i], post[i] = False, -1, -1\n",
    "\n",
    "def DFStree(Alist, v, count=0):\n",
    "    visited[v] = True\n",
    "    pre[v] = count\n",
    "    for k in Alist[v]:\n",
    "        if not visited[k]:\n",
    "            count = DFStree(Alist, k,count)\n",
    "    post[v] = count\n",
    "    count+=1\n",
    "    return count"
   ]
  },
  {
   "cell_type": "code",
   "execution_count": 6,
   "metadata": {},
   "outputs": [],
   "source": [
    "def topsort(Alist):\n",
    "    indegree = {}\n",
    "    topsort = []\n",
    "\n",
    "    for u in Alist.keys():\n",
    "        indegree[u] = 0\n",
    "\n",
    "    for u in Alist.keys():\n",
    "        for v in Alist[u]:\n",
    "            indegree[v] +=1\n",
    "\n",
    "    zerodegreequeue = Queue()\n",
    "\n",
    "    for u in Alist.keys():\n",
    "        if indegree[u] ==0:\n",
    "            zerodegreequeue.addq(u)\n",
    "\n",
    "    while not zerodegreequeue.isempty():\n",
    "        j = zerodegreequeue.delq()\n",
    "        topsort.append(j)\n",
    "        indegree[j] = indegree[j] -1\n",
    "\n",
    "        for k in Alist[j]:\n",
    "            indegree[k] -= 1\n",
    "            if indegree[k] == 0:\n",
    "                zerodegreequeue.addq(k)\n",
    "\n",
    "    return topsort"
   ]
  },
  {
   "cell_type": "code",
   "execution_count": 7,
   "metadata": {},
   "outputs": [],
   "source": [
    "def djikstra(Wlist, s):\n",
    "    infinity = 1 + max([d for u in Wlist.keys() for v,d in Wlist[u]])\n",
    "    distance, visited = {}, {}\n",
    "    for u in Alist.keys():\n",
    "        visited[u], distance[u] = False, infinity\n",
    "\n",
    "    distance[s] = 0\n",
    "\n",
    "    for u in Wlist.keys():\n",
    "        nextd = min([distance[v] for v in Wlist.keys() if not visited[v]])\n",
    "        nextvlist = [v for v in Wlist.keys() if not visited[v] and distance[v]==nextd]\n",
    "\n",
    "        if nextvlist==[]:\n",
    "            break\n",
    "        nextv = min(nextvlist)\n",
    "        visited[nextv] = True\n",
    "        for v,d in Wlist[nextv]:\n",
    "            if not visited[v]:\n",
    "                distance[v] = min(distance[v], distance[nextv]+d)"
   ]
  },
  {
   "cell_type": "code",
   "execution_count": null,
   "metadata": {},
   "outputs": [],
   "source": []
  }
 ],
 "metadata": {
  "interpreter": {
   "hash": "916dbcbb3f70747c44a77c7bcd40155683ae19c65e1c03b4aa3499c5328201f1"
  },
  "kernelspec": {
   "display_name": "Python 3.10.3 64-bit",
   "language": "python",
   "name": "python3"
  },
  "language_info": {
   "codemirror_mode": {
    "name": "ipython",
    "version": 3
   },
   "file_extension": ".py",
   "mimetype": "text/x-python",
   "name": "python",
   "nbconvert_exporter": "python",
   "pygments_lexer": "ipython3",
   "version": "3.10.3"
  },
  "orig_nbformat": 4
 },
 "nbformat": 4,
 "nbformat_minor": 2
}

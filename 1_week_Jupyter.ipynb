{
 "cells": [
  {
   "cell_type": "code",
   "execution_count": 1,
   "source": [
    "class Point:\r\n",
    "    def __init__(self, a=0, b=0):\r\n",
    "        self.x = a\r\n",
    "        self.y = b\r\n",
    "        \r\n",
    "    def odistance(self):\r\n",
    "        import math\r\n",
    "        return (math.sqrt(self.x*self.x + self.y*self.y))\r\n",
    "    \r\n",
    "    def translate(self, deltax, deltay):\r\n",
    "        self.x += deltax\r\n",
    "        self.y += deltay"
   ],
   "outputs": [],
   "metadata": {}
  },
  {
   "cell_type": "code",
   "execution_count": 2,
   "source": [
    "p = Point(3,4)\r\n",
    "q = Point(7,10)"
   ],
   "outputs": [],
   "metadata": {}
  },
  {
   "cell_type": "code",
   "execution_count": 3,
   "source": [
    "p.odistance(), q.odistance()"
   ],
   "outputs": [
    {
     "output_type": "execute_result",
     "data": {
      "text/plain": [
       "(5.0, 12.206555615733702)"
      ]
     },
     "metadata": {},
     "execution_count": 3
    }
   ],
   "metadata": {}
  },
  {
   "cell_type": "code",
   "execution_count": 4,
   "source": [
    "import math\r\n",
    "class Point:\r\n",
    "    def __init__(self, a, b):\r\n",
    "        self.r = math.sqrt(a*a+b*b)\r\n",
    "        if a == 0:\r\n",
    "            self.theta = math.pi/2\r\n",
    "        else:\r\n",
    "            self.theta = math.atan(b/a)\r\n",
    "    \r\n",
    "    def odistance(self):\r\n",
    "        return self.r\r\n",
    "    \r\n",
    "    def translate(self, deltax, deltay):\r\n",
    "        x = self.r*math.cos(self.theta)\r\n",
    "        y = self.r*math.sin(self.theta)\r\n",
    "        x+=deltax\r\n",
    "        y+=deltay\r\n",
    "        self.r = math.sqrt(x*x+y*y)\r\n",
    "        if x==0:\r\n",
    "            self.theta = math.pi/2\r\n",
    "        else:\r\n",
    "            self.theta = math.atann(y/x)\r\n",
    "        print(\"r = \", self.r)\r\n",
    "        print(\"tehta = \", self.theta)"
   ],
   "outputs": [],
   "metadata": {}
  },
  {
   "cell_type": "code",
   "execution_count": 5,
   "source": [
    "p = Point(3,4)\r\n",
    "q = Point(7,10)"
   ],
   "outputs": [],
   "metadata": {}
  },
  {
   "cell_type": "code",
   "execution_count": 6,
   "source": [
    "p.odistance(), q.odistance()"
   ],
   "outputs": [
    {
     "output_type": "execute_result",
     "data": {
      "text/plain": [
       "(5.0, 12.206555615733702)"
      ]
     },
     "metadata": {},
     "execution_count": 6
    }
   ],
   "metadata": {}
  },
  {
   "cell_type": "code",
   "execution_count": 7,
   "source": [
    "class Point:\r\n",
    "    def __init__(self, a=0, b=0):\r\n",
    "        self.x = a\r\n",
    "        self.y = b\r\n",
    "        \r\n",
    "    def odistance(self):\r\n",
    "        import math\r\n",
    "        return (math.sqrt(self.x*self.x + self.y*self.y))\r\n",
    "    \r\n",
    "    def translate(self, deltax, deltay):\r\n",
    "        self.x += deltax\r\n",
    "        self.y += deltay\r\n",
    "\r\n",
    "    def __str__(self) -> str:\r\n",
    "        return '('+str(self.x)+','+str(self.y)+')'\r\n",
    "    \r\n",
    "    def __add__(self, p):\r\n",
    "        return Point(self.x+p.x, self.y+p.y)"
   ],
   "outputs": [],
   "metadata": {}
  },
  {
   "cell_type": "code",
   "execution_count": 8,
   "source": [
    "p = Point(3,4)\r\n",
    "q = Point(7,10)"
   ],
   "outputs": [],
   "metadata": {}
  },
  {
   "cell_type": "code",
   "execution_count": 9,
   "source": [
    "p.__str__()"
   ],
   "outputs": [
    {
     "output_type": "execute_result",
     "data": {
      "text/plain": [
       "'(3,4)'"
      ]
     },
     "metadata": {},
     "execution_count": 9
    }
   ],
   "metadata": {}
  },
  {
   "cell_type": "code",
   "execution_count": 10,
   "source": [
    "q.__str__()"
   ],
   "outputs": [
    {
     "output_type": "execute_result",
     "data": {
      "text/plain": [
       "'(7,10)'"
      ]
     },
     "metadata": {},
     "execution_count": 10
    }
   ],
   "metadata": {}
  },
  {
   "cell_type": "code",
   "execution_count": 11,
   "source": [
    "r = p.__add__(q)\r\n",
    "r.__str__()"
   ],
   "outputs": [
    {
     "output_type": "execute_result",
     "data": {
      "text/plain": [
       "'(10,14)'"
      ]
     },
     "metadata": {},
     "execution_count": 11
    }
   ],
   "metadata": {}
  },
  {
   "cell_type": "markdown",
   "source": [
    "* p+q implicitly calls __add__(self) function\r\n",
    "* print implicitly calls __str__(self) function\r\n",
    "* print(p+q) first implicitly calls for __add__ function and then implicitly calls for __str__"
   ],
   "metadata": {}
  },
  {
   "cell_type": "code",
   "execution_count": 12,
   "source": [
    "print(p+q)"
   ],
   "outputs": [
    {
     "output_type": "stream",
     "name": "stdout",
     "text": [
      "(10,14)\n"
     ]
    }
   ],
   "metadata": {}
  },
  {
   "cell_type": "code",
   "execution_count": null,
   "source": [],
   "outputs": [],
   "metadata": {}
  }
 ],
 "metadata": {
  "orig_nbformat": 4,
  "language_info": {
   "name": "python",
   "version": "3.9.6",
   "mimetype": "text/x-python",
   "codemirror_mode": {
    "name": "ipython",
    "version": 3
   },
   "pygments_lexer": "ipython3",
   "nbconvert_exporter": "python",
   "file_extension": ".py"
  },
  "kernelspec": {
   "name": "python3",
   "display_name": "Python 3.9.6 64-bit"
  },
  "interpreter": {
   "hash": "ab11d4631bdbf480bab8056aa9a03458b7eebdd62f362224c527678da3611864"
  }
 },
 "nbformat": 4,
 "nbformat_minor": 2
}
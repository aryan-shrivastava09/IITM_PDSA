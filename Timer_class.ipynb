{
 "cells": [
  {
   "cell_type": "code",
   "execution_count": 1,
   "source": [
    "import time"
   ],
   "outputs": [],
   "metadata": {}
  },
  {
   "cell_type": "code",
   "execution_count": 2,
   "source": [
    "class TimerError(Exception):\r\n",
    "    '''A custom exception to report errors during execution of timer class'''"
   ],
   "outputs": [],
   "metadata": {}
  },
  {
   "cell_type": "code",
   "execution_count": 5,
   "source": [
    "class Timer:\r\n",
    "    def __init__(self) -> None:\r\n",
    "        self.start_time = None\r\n",
    "        self.elapsed_time = None\r\n",
    "    \r\n",
    "    def start(self):\r\n",
    "        '''To start the timer'''\r\n",
    "        if self.start_time is not None:\r\n",
    "            raise TimerError(\"Timer is running. Use stop()\")\r\n",
    "        else:\r\n",
    "            self.start_time = time.perf_counter()\r\n",
    "\r\n",
    "    def stop(self):\r\n",
    "        '''To stop the timer'''\r\n",
    "        if self.start_time == None:\r\n",
    "            raise TimerError(\"Timer is not running. Use start()\")\r\n",
    "        else:\r\n",
    "            self.elapsed_time = time.perf_counter() - self.start_time\r\n",
    "            self.start_time = None\r\n",
    "    \r\n",
    "    def elapsed(self):\r\n",
    "        '''To return the elapsed time'''\r\n",
    "        if self.elapsed_time == None:\r\n",
    "            raise TimerError('Timer has not been run yet. Use start()')\r\n",
    "        return self.elapsed_time\r\n",
    "    \r\n",
    "    def __str__(self) -> str:\r\n",
    "        '''print() prints elapsed time'''\r\n",
    "        return '('+str(self.elapsed_time)+')'"
   ],
   "outputs": [],
   "metadata": {}
  },
  {
   "cell_type": "code",
   "execution_count": 6,
   "source": [
    "t = Timer()\r\n",
    "for j in range(4,9):\r\n",
    "    t.start()\r\n",
    "    n = 0\r\n",
    "    for i in range(10**j):\r\n",
    "        n=n+i\r\n",
    "    t.stop()\r\n",
    "    print(j,t)"
   ],
   "outputs": [
    {
     "output_type": "stream",
     "name": "stdout",
     "text": [
      "4 (0.000994300000002113)\n",
      "5 (0.01653249999981199)\n",
      "6 (0.10660550000011426)\n",
      "7 (1.0321979000000283)\n",
      "8 (13.3904607999998)\n"
     ]
    }
   ],
   "metadata": {}
  },
  {
   "cell_type": "code",
   "execution_count": null,
   "source": [],
   "outputs": [],
   "metadata": {}
  }
 ],
 "metadata": {
  "orig_nbformat": 4,
  "language_info": {
   "name": "python",
   "version": "3.9.6",
   "mimetype": "text/x-python",
   "codemirror_mode": {
    "name": "ipython",
    "version": 3
   },
   "pygments_lexer": "ipython3",
   "nbconvert_exporter": "python",
   "file_extension": ".py"
  },
  "kernelspec": {
   "name": "python3",
   "display_name": "Python 3.9.6 64-bit"
  },
  "interpreter": {
   "hash": "ab11d4631bdbf480bab8056aa9a03458b7eebdd62f362224c527678da3611864"
  }
 },
 "nbformat": 4,
 "nbformat_minor": 2
}
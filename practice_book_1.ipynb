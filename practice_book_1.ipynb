{
 "cells": [
  {
   "cell_type": "code",
   "execution_count": 1,
   "source": [
    "def gcd(a,b):\r\n",
    "    m,n = (max(a,b), min(a,b))\r\n",
    "    if a%b==0:\r\n",
    "        return n\r\n",
    "    else:\r\n",
    "        return gcd(b,a%b)"
   ],
   "outputs": [],
   "metadata": {}
  },
  {
   "cell_type": "code",
   "execution_count": 2,
   "source": [
    "gcd(1521,1727)"
   ],
   "outputs": [
    {
     "output_type": "execute_result",
     "data": {
      "text/plain": [
       "1"
      ]
     },
     "metadata": {},
     "execution_count": 2
    }
   ],
   "metadata": {}
  },
  {
   "cell_type": "code",
   "execution_count": 3,
   "source": [
    "def prime(a):\r\n",
    "    if a==0 or a==1:\r\n",
    "        return 0\r\n",
    "    elif a==2 or a==3:\r\n",
    "        return 1\r\n",
    "    elif a%2==0 or a%3==0:\r\n",
    "        return 0\r\n",
    "    for i in range(5,a,6):\r\n",
    "        if a%i==0:\r\n",
    "            return 0\r\n",
    "    return 1"
   ],
   "outputs": [],
   "metadata": {}
  },
  {
   "cell_type": "code",
   "execution_count": 4,
   "source": [
    "print(prime(47))"
   ],
   "outputs": [
    {
     "output_type": "stream",
     "name": "stdout",
     "text": [
      "1\n"
     ]
    }
   ],
   "metadata": {}
  },
  {
   "cell_type": "code",
   "execution_count": 5,
   "source": [
    "def countPrime(n):\r\n",
    "    '''Counts prime upto N'''\r\n",
    "    l = []\r\n",
    "    for i in range(n+1):\r\n",
    "        if(prime(i)):\r\n",
    "            l.append(i)\r\n",
    "    return l"
   ],
   "outputs": [],
   "metadata": {}
  },
  {
   "cell_type": "code",
   "execution_count": 6,
   "source": [
    "print(countPrime(100))"
   ],
   "outputs": [
    {
     "output_type": "stream",
     "name": "stdout",
     "text": [
      "[2, 3, 5, 7, 11, 13, 17, 19, 23, 29, 31, 37, 41, 43, 47, 49, 53, 59, 61, 67, 71, 73, 79, 83, 89, 91, 97]\n"
     ]
    }
   ],
   "metadata": {}
  },
  {
   "cell_type": "code",
   "execution_count": 7,
   "source": [
    "def twin_prime(n):\r\n",
    "    '''Computes twin prime tuples upto N'''\r\n",
    "    l=[]\r\n",
    "    for i in range(n-1):\r\n",
    "        if prime(i) and prime(i+2):\r\n",
    "            l.append((i,i+2))\r\n",
    "    return l\r\n"
   ],
   "outputs": [],
   "metadata": {}
  },
  {
   "cell_type": "code",
   "execution_count": 8,
   "source": [
    "print(twin_prime(1000))"
   ],
   "outputs": [
    {
     "output_type": "stream",
     "name": "stdout",
     "text": [
      "[(3, 5), (5, 7), (11, 13), (17, 19), (29, 31), (41, 43), (47, 49), (59, 61), (71, 73), (89, 91), (101, 103), (107, 109), (131, 133), (137, 139), (149, 151), (167, 169), (179, 181), (191, 193), (197, 199), (227, 229), (239, 241), (257, 259), (269, 271), (281, 283), (311, 313), (347, 349), (359, 361), (401, 403), (419, 421), (431, 433), (461, 463), (467, 469), (479, 481), (509, 511), (521, 523), (557, 559), (569, 571), (587, 589), (599, 601), (617, 619), (641, 643), (659, 661), (677, 679), (701, 703), (719, 721), (761, 763), (809, 811), (821, 823), (827, 829), (857, 859), (881, 883), (887, 889), (929, 931), (947, 949), (971, 973)]\n"
     ]
    }
   ],
   "metadata": {}
  },
  {
   "cell_type": "markdown",
   "source": [
    "## Exception Handling"
   ],
   "metadata": {}
  },
  {
   "cell_type": "code",
   "execution_count": 9,
   "source": [
    "l = [2, 3, 5, 7, 11, 13, 17, 19, 23, 29, 31, 37, 41, 43, 47, 49, 53, 59, 61, 67, 71, 73, 79, 83, 89, 91, 97]\r\n",
    "try:\r\n",
    "    if prime(l[28]):\r\n",
    "        print(\"Prime number\",l[28])\r\n",
    "except(IndexError):\r\n",
    "    print(\"Index Out of bounds\")\r\n",
    "except:\r\n",
    "    print(\"Love you.\")\r\n",
    "else:\r\n",
    "    a = l[0]+l[len(l)-1]\r\n",
    "    print(a)\r\n",
    "finally:\r\n",
    "    a = l[0]+l[len(l)-1]\r\n",
    "    print(prime(a))"
   ],
   "outputs": [
    {
     "output_type": "stream",
     "name": "stdout",
     "text": [
      "Index Out of bounds\n",
      "0\n"
     ]
    }
   ],
   "metadata": {}
  },
  {
   "cell_type": "markdown",
   "source": [
    "## Objects and Classes"
   ],
   "metadata": {}
  },
  {
   "cell_type": "code",
   "execution_count": 10,
   "source": [
    "import math\r\n",
    "class Point:\r\n",
    "    def __init__(self,a,b) -> None:\r\n",
    "        self.x = a\r\n",
    "        self.y = b\r\n",
    "    \r\n",
    "    def distance_from_origin(self):\r\n",
    "        return (math.sqrt(self.x**2+self.y**2))\r\n",
    "    \r\n",
    "    def translate(self,deltaX, deltaY):\r\n",
    "        self.x += deltaX\r\n",
    "        self.y += deltaY\r\n",
    "        "
   ],
   "outputs": [],
   "metadata": {}
  },
  {
   "cell_type": "code",
   "execution_count": 11,
   "source": [
    "p = Point(4,3)\r\n",
    "print(p.distance_from_origin())\r\n",
    "p.translate(1,2)\r\n",
    "print(p.distance_from_origin())"
   ],
   "outputs": [
    {
     "output_type": "stream",
     "name": "stdout",
     "text": [
      "5.0\n",
      "7.0710678118654755\n"
     ]
    }
   ],
   "metadata": {}
  },
  {
   "cell_type": "code",
   "execution_count": 12,
   "source": [
    "import math\r\n",
    "class Point:\r\n",
    "    def __init__(self,r,theta) -> None:\r\n",
    "        self.r=r\r\n",
    "        self.theta =theta\r\n",
    "    \r\n",
    "    def distance_from_origin(self):\r\n",
    "        return self.r\r\n",
    "    \r\n",
    "    def translate(self, deltaX, deltaY):\r\n",
    "        self.r= math.sqrt((self.r*math.cos(self.theta)+deltaX)**2+(self.r*math.sin(self.theta)+deltaY)**2)\r\n",
    "        if (self.r*math.cos(self.theta)+deltaX)==0:\r\n",
    "            self.theta = math.pi/2\r\n",
    "        else:\r\n",
    "            self.theta = math.atan(self.r*math.sin(self.theta)+deltaY/self.r*math.cos(self.theta)+deltaX)\r\n"
   ],
   "outputs": [],
   "metadata": {}
  },
  {
   "cell_type": "code",
   "execution_count": 13,
   "source": [
    "p = Point(4,math.pi/4)\r\n",
    "print(p.distance_from_origin())\r\n",
    "p.translate(1,2)\r\n",
    "print(p.distance_from_origin())"
   ],
   "outputs": [
    {
     "output_type": "stream",
     "name": "stdout",
     "text": [
      "4\n",
      "6.16202586398963\n"
     ]
    }
   ],
   "metadata": {}
  },
  {
   "cell_type": "markdown",
   "source": [
    "## Searching"
   ],
   "metadata": {}
  },
  {
   "cell_type": "code",
   "execution_count": 14,
   "source": [
    "## Naive Search\r\n",
    "def naiveSearch(a,L):\r\n",
    "    if len(L)==0:\r\n",
    "        return 0\r\n",
    "    for i in L:\r\n",
    "        if i==a:\r\n",
    "            return 1\r\n",
    "    return 0"
   ],
   "outputs": [],
   "metadata": {}
  },
  {
   "cell_type": "code",
   "execution_count": 15,
   "source": [
    "l = [2, 3, 5, 7, 11, 13, 17, 19, 23, 29, 31, 37, 41, 43, 47, 49, 53, 59, 61, 67, 71, 73, 79, 83, 89, 91, 97]\r\n",
    "a = 19\r\n",
    "print(naiveSearch(a,l))\r\n",
    "b = 20\r\n",
    "print(naiveSearch(b,l))"
   ],
   "outputs": [
    {
     "output_type": "stream",
     "name": "stdout",
     "text": [
      "1\n",
      "0\n"
     ]
    }
   ],
   "metadata": {}
  },
  {
   "cell_type": "code",
   "execution_count": 16,
   "source": [
    "## Binary Search\r\n",
    "def BinarySearch(a,l):\r\n",
    "    if l==[]:\r\n",
    "        return False\r\n",
    "    m = len(l)//2\r\n",
    "    if l[m]==a:\r\n",
    "        return True\r\n",
    "    elif l[m]<a:\r\n",
    "        return BinarySearch(a,l[m+1:])\r\n",
    "    else:\r\n",
    "        return BinarySearch(a,l[:m])"
   ],
   "outputs": [],
   "metadata": {}
  },
  {
   "cell_type": "code",
   "execution_count": 17,
   "source": [
    "l = [2, 3, 5, 7, 11, 13, 17, 19, 23, 29, 31, 37, 41, 43, 47, 49, 53, 59, 61, 67, 71, 73, 79, 83, 89, 91, 97]\r\n",
    "a = 5\r\n",
    "print(BinarySearch(a,l))"
   ],
   "outputs": [
    {
     "output_type": "stream",
     "name": "stdout",
     "text": [
      "True\n"
     ]
    }
   ],
   "metadata": {}
  },
  {
   "cell_type": "markdown",
   "source": [
    "## Sorting"
   ],
   "metadata": {}
  },
  {
   "cell_type": "code",
   "execution_count": 20,
   "source": [
    "def SelectionSort(l):\r\n",
    "    n = len(l)\r\n",
    "    if n<1:\r\n",
    "        return l\r\n",
    "    for i in range(n):\r\n",
    "        mpos = i\r\n",
    "        for j in range(i+1,n):\r\n",
    "            if l[j]<l[mpos]:\r\n",
    "                mpos = j\r\n",
    "        l[i],l[mpos] = l[mpos],l[i]\r\n",
    "    return l\r\n"
   ],
   "outputs": [],
   "metadata": {}
  },
  {
   "cell_type": "code",
   "execution_count": 21,
   "source": [
    "L = [22,31,13,43,12,10,52]\r\n",
    "print(SelectionSort(L))"
   ],
   "outputs": [
    {
     "output_type": "stream",
     "name": "stdout",
     "text": [
      "[10, 12, 13, 22, 31, 43, 52]\n"
     ]
    }
   ],
   "metadata": {}
  },
  {
   "cell_type": "code",
   "execution_count": 22,
   "source": [
    "def InsertionSort(l):\r\n",
    "    n = len(l)\r\n",
    "    if n<1:\r\n",
    "        return l\r\n",
    "    for i in range(n):\r\n",
    "        j=i\r\n",
    "        while j!=0 and L[j]<L[j-1]:\r\n",
    "            l[j],l[j-1]=l[j-1],l[j]\r\n",
    "            j=j-1\r\n",
    "    return L"
   ],
   "outputs": [],
   "metadata": {}
  },
  {
   "cell_type": "code",
   "execution_count": 23,
   "source": [
    "L = [22,31,13,43,12,10,52]\r\n",
    "print(InsertionSort(L))"
   ],
   "outputs": [
    {
     "output_type": "stream",
     "name": "stdout",
     "text": [
      "[10, 12, 13, 22, 31, 43, 52]\n"
     ]
    }
   ],
   "metadata": {}
  },
  {
   "cell_type": "code",
   "execution_count": 33,
   "source": [
    "def merge(A,B):\r\n",
    "    m,n = len(A),len(B)\r\n",
    "    C,i,j,k = [],0,0,0\r\n",
    "    while k<m+n:\r\n",
    "        if i==m:\r\n",
    "            C.extend(B[j:])\r\n",
    "            k=k+(n-j)\r\n",
    "        elif j==n:\r\n",
    "            C.extend(A[i:])\r\n",
    "            k= k+(m-i)\r\n",
    "        elif A[i]<B[j]:\r\n",
    "            C.append(A[i])\r\n",
    "            i,k=i+1,k+1\r\n",
    "        else:\r\n",
    "            C.append(B[j])\r\n",
    "            j,k=j+1,k+1\r\n",
    "    return C\r\n",
    "\r\n",
    "def mergesort(l):\r\n",
    "    n= len(l)\r\n",
    "    if n<=1:\r\n",
    "        return l\r\n",
    "    L = mergesort(l[:n//2])\r\n",
    "    R = mergesort(l[n//2:])\r\n",
    "    l1 = merge(L,R)\r\n",
    "    return l1\r\n"
   ],
   "outputs": [],
   "metadata": {}
  },
  {
   "cell_type": "code",
   "execution_count": 34,
   "source": [
    "print(mergesort(L))"
   ],
   "outputs": [
    {
     "output_type": "stream",
     "name": "stdout",
     "text": [
      "[10, 12, 13, 22, 31, 43, 52]\n"
     ]
    }
   ],
   "metadata": {}
  },
  {
   "cell_type": "code",
   "execution_count": 1,
   "source": [
    "def partition(L,start,end):\r\n",
    "    pivot_index = start\r\n",
    "    pivot = L[pivot_index]\r\n",
    "    while start<end:\r\n",
    "        while start<len(L) and L[start]<=pivot:\r\n",
    "            start+=1\r\n",
    "        while start<len(L) and L[end]>=pivot:\r\n",
    "            end-=1\r\n",
    "        if start<end:\r\n",
    "            L[start],L[end]=L[end],L[start]\r\n",
    "    L[pivot_index],L[end]=L[end],L[pivot_index]\r\n",
    "    return end\r\n",
    "\r\n",
    "def quicksort(L,start,end):\r\n",
    "    if start<end:\r\n",
    "        p=partition(L,start,end)\r\n",
    "        quicksort(L,start,p-1)\r\n",
    "        quicksort(L,p+1,end)"
   ],
   "outputs": [],
   "metadata": {}
  },
  {
   "cell_type": "code",
   "execution_count": 2,
   "source": [
    "L = [22,31,13,43,12,10,52]\r\n",
    "quicksort(L,0,len(L)-1)\r\n",
    "print(L)"
   ],
   "outputs": [
    {
     "output_type": "stream",
     "name": "stdout",
     "text": [
      "[10, 12, 13, 22, 31, 43, 52]\n"
     ]
    }
   ],
   "metadata": {}
  },
  {
   "cell_type": "code",
   "execution_count": null,
   "source": [],
   "outputs": [],
   "metadata": {}
  }
 ],
 "metadata": {
  "orig_nbformat": 4,
  "language_info": {
   "name": "python",
   "version": "3.9.6",
   "mimetype": "text/x-python",
   "codemirror_mode": {
    "name": "ipython",
    "version": 3
   },
   "pygments_lexer": "ipython3",
   "nbconvert_exporter": "python",
   "file_extension": ".py"
  },
  "kernelspec": {
   "name": "python3",
   "display_name": "Python 3.9.6 64-bit"
  },
  "interpreter": {
   "hash": "ab11d4631bdbf480bab8056aa9a03458b7eebdd62f362224c527678da3611864"
  }
 },
 "nbformat": 4,
 "nbformat_minor": 2
}
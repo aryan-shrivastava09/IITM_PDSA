{
 "cells": [
  {
   "cell_type": "code",
   "execution_count": 1,
   "metadata": {},
   "outputs": [],
   "source": [
    "def gcd(a,b):\n",
    "    m,n = (max(a,b), min(a,b))\n",
    "    if a%b==0:\n",
    "        return n\n",
    "    else:\n",
    "        return gcd(b,a%b)"
   ]
  },
  {
   "cell_type": "code",
   "execution_count": 2,
   "metadata": {},
   "outputs": [
    {
     "data": {
      "text/plain": [
       "1"
      ]
     },
     "execution_count": 2,
     "metadata": {},
     "output_type": "execute_result"
    }
   ],
   "source": [
    "gcd(1521,1727)"
   ]
  },
  {
   "cell_type": "code",
   "execution_count": 3,
   "metadata": {},
   "outputs": [],
   "source": [
    "def prime(a):\n",
    "    if a==0 or a==1:\n",
    "        return 0\n",
    "    elif a==2 or a==3:\n",
    "        return 1\n",
    "    elif a%2==0 or a%3==0:\n",
    "        return 0\n",
    "    for i in range(5,a,6):\n",
    "        if a%i==0:\n",
    "            return 0\n",
    "    return 1"
   ]
  },
  {
   "cell_type": "code",
   "execution_count": 4,
   "metadata": {},
   "outputs": [
    {
     "name": "stdout",
     "output_type": "stream",
     "text": [
      "1\n"
     ]
    }
   ],
   "source": [
    "print(prime(47))"
   ]
  },
  {
   "cell_type": "code",
   "execution_count": 5,
   "metadata": {},
   "outputs": [],
   "source": [
    "def countPrime(n):\n",
    "    '''Counts prime upto N'''\n",
    "    l = []\n",
    "    for i in range(n+1):\n",
    "        if(prime(i)):\n",
    "            l.append(i)\n",
    "    return l"
   ]
  },
  {
   "cell_type": "code",
   "execution_count": 6,
   "metadata": {},
   "outputs": [
    {
     "name": "stdout",
     "output_type": "stream",
     "text": [
      "[2, 3, 5, 7, 11, 13, 17, 19, 23, 29, 31, 37, 41, 43, 47, 49, 53, 59, 61, 67, 71, 73, 79, 83, 89, 91, 97]\n"
     ]
    }
   ],
   "source": [
    "print(countPrime(100))"
   ]
  },
  {
   "cell_type": "code",
   "execution_count": 7,
   "metadata": {},
   "outputs": [],
   "source": [
    "def twin_prime(n):\n",
    "    '''Computes twin prime tuples upto N'''\n",
    "    l=[]\n",
    "    for i in range(n-1):\n",
    "        if prime(i) and prime(i+2):\n",
    "            l.append((i,i+2))\n",
    "    return l\n"
   ]
  },
  {
   "cell_type": "code",
   "execution_count": 8,
   "metadata": {},
   "outputs": [
    {
     "name": "stdout",
     "output_type": "stream",
     "text": [
      "[(3, 5), (5, 7), (11, 13), (17, 19), (29, 31), (41, 43), (47, 49), (59, 61), (71, 73), (89, 91), (101, 103), (107, 109), (131, 133), (137, 139), (149, 151), (167, 169), (179, 181), (191, 193), (197, 199), (227, 229), (239, 241), (257, 259), (269, 271), (281, 283), (311, 313), (347, 349), (359, 361), (401, 403), (419, 421), (431, 433), (461, 463), (467, 469), (479, 481), (509, 511), (521, 523), (557, 559), (569, 571), (587, 589), (599, 601), (617, 619), (641, 643), (659, 661), (677, 679), (701, 703), (719, 721), (761, 763), (809, 811), (821, 823), (827, 829), (857, 859), (881, 883), (887, 889), (929, 931), (947, 949), (971, 973)]\n"
     ]
    }
   ],
   "source": [
    "print(twin_prime(1000))"
   ]
  },
  {
   "cell_type": "markdown",
   "metadata": {},
   "source": [
    "## Exception Handling"
   ]
  },
  {
   "cell_type": "code",
   "execution_count": 9,
   "metadata": {},
   "outputs": [
    {
     "name": "stdout",
     "output_type": "stream",
     "text": [
      "Index Out of bounds\n",
      "0\n"
     ]
    }
   ],
   "source": [
    "l = [2, 3, 5, 7, 11, 13, 17, 19, 23, 29, 31, 37, 41, 43, 47, 49, 53, 59, 61, 67, 71, 73, 79, 83, 89, 91, 97]\n",
    "try:\n",
    "    if prime(l[28]):\n",
    "        print(\"Prime number\",l[28])\n",
    "except(IndexError):\n",
    "    print(\"Index Out of bounds\")\n",
    "except:\n",
    "    print(\"Love you.\")\n",
    "else:\n",
    "    a = l[0]+l[len(l)-1]\n",
    "    print(a)\n",
    "finally:\n",
    "    a = l[0]+l[len(l)-1]\n",
    "    print(prime(a))"
   ]
  },
  {
   "cell_type": "markdown",
   "metadata": {},
   "source": [
    "## Objects and Classes"
   ]
  },
  {
   "cell_type": "code",
   "execution_count": 10,
   "metadata": {},
   "outputs": [],
   "source": [
    "import math\n",
    "class Point:\n",
    "    def __init__(self,a,b) -> None:\n",
    "        self.x = a\n",
    "        self.y = b\n",
    "    \n",
    "    def distance_from_origin(self):\n",
    "        return (math.sqrt(self.x**2+self.y**2))\n",
    "    \n",
    "    def translate(self,deltaX, deltaY):\n",
    "        self.x += deltaX\n",
    "        self.y += deltaY\n",
    "        "
   ]
  },
  {
   "cell_type": "code",
   "execution_count": 11,
   "metadata": {},
   "outputs": [
    {
     "name": "stdout",
     "output_type": "stream",
     "text": [
      "5.0\n",
      "7.0710678118654755\n"
     ]
    }
   ],
   "source": [
    "p = Point(4,3)\n",
    "print(p.distance_from_origin())\n",
    "p.translate(1,2)\n",
    "print(p.distance_from_origin())"
   ]
  },
  {
   "cell_type": "code",
   "execution_count": 12,
   "metadata": {},
   "outputs": [],
   "source": [
    "import math\n",
    "class Point:\n",
    "    def __init__(self,r,theta) -> None:\n",
    "        self.r=r\n",
    "        self.theta =theta\n",
    "    \n",
    "    def distance_from_origin(self):\n",
    "        return self.r\n",
    "    \n",
    "    def translate(self, deltaX, deltaY):\n",
    "        self.r= math.sqrt((self.r*math.cos(self.theta)+deltaX)**2+(self.r*math.sin(self.theta)+deltaY)**2)\n",
    "        if (self.r*math.cos(self.theta)+deltaX)==0:\n",
    "            self.theta = math.pi/2\n",
    "        else:\n",
    "            self.theta = math.atan(self.r*math.sin(self.theta)+deltaY/self.r*math.cos(self.theta)+deltaX)\n"
   ]
  },
  {
   "cell_type": "code",
   "execution_count": 13,
   "metadata": {},
   "outputs": [
    {
     "name": "stdout",
     "output_type": "stream",
     "text": [
      "4\n",
      "6.16202586398963\n"
     ]
    }
   ],
   "source": [
    "p = Point(4,math.pi/4)\n",
    "print(p.distance_from_origin())\n",
    "p.translate(1,2)\n",
    "print(p.distance_from_origin())"
   ]
  },
  {
   "cell_type": "markdown",
   "metadata": {},
   "source": [
    "## Searching"
   ]
  },
  {
   "cell_type": "code",
   "execution_count": 14,
   "metadata": {},
   "outputs": [],
   "source": [
    "## Naive Search\n",
    "def naiveSearch(a,L):\n",
    "    if len(L)==0:\n",
    "        return 0\n",
    "    for i in L:\n",
    "        if i==a:\n",
    "            return 1\n",
    "    return 0"
   ]
  },
  {
   "cell_type": "code",
   "execution_count": 15,
   "metadata": {},
   "outputs": [
    {
     "name": "stdout",
     "output_type": "stream",
     "text": [
      "1\n",
      "0\n"
     ]
    }
   ],
   "source": [
    "l = [2, 3, 5, 7, 11, 13, 17, 19, 23, 29, 31, 37, 41, 43, 47, 49, 53, 59, 61, 67, 71, 73, 79, 83, 89, 91, 97]\n",
    "a = 19\n",
    "print(naiveSearch(a,l))\n",
    "b = 20\n",
    "print(naiveSearch(b,l))"
   ]
  },
  {
   "cell_type": "code",
   "execution_count": 16,
   "metadata": {},
   "outputs": [],
   "source": [
    "## Binary Search\n",
    "def BinarySearch(a,l):\n",
    "    if l==[]:\n",
    "        return False\n",
    "    m = len(l)//2\n",
    "    if l[m]==a:\n",
    "        return True\n",
    "    elif l[m]<a:\n",
    "        return BinarySearch(a,l[m+1:])\n",
    "    else:\n",
    "        return BinarySearch(a,l[:m])"
   ]
  },
  {
   "cell_type": "code",
   "execution_count": 17,
   "metadata": {},
   "outputs": [
    {
     "name": "stdout",
     "output_type": "stream",
     "text": [
      "True\n"
     ]
    }
   ],
   "source": [
    "l = [2, 3, 5, 7, 11, 13, 17, 19, 23, 29, 31, 37, 41, 43, 47, 49, 53, 59, 61, 67, 71, 73, 79, 83, 89, 91, 97]\n",
    "a = 5\n",
    "print(BinarySearch(a,l))"
   ]
  },
  {
   "cell_type": "markdown",
   "metadata": {},
   "source": [
    "## Sorting"
   ]
  },
  {
   "cell_type": "code",
   "execution_count": 18,
   "metadata": {},
   "outputs": [],
   "source": [
    "def SelectionSort(l):\n",
    "    n = len(l)\n",
    "    if n<1:\n",
    "        return l\n",
    "    for i in range(n):\n",
    "        mpos = i\n",
    "        for j in range(i+1,n):\n",
    "            if l[j]<l[mpos]:\n",
    "                mpos = j\n",
    "        l[i],l[mpos] = l[mpos],l[i]\n",
    "    return l\n"
   ]
  },
  {
   "cell_type": "code",
   "execution_count": 19,
   "metadata": {},
   "outputs": [
    {
     "name": "stdout",
     "output_type": "stream",
     "text": [
      "[10, 12, 13, 22, 31, 43, 52]\n"
     ]
    }
   ],
   "source": [
    "L = [22,31,13,43,12,10,52]\n",
    "print(SelectionSort(L))"
   ]
  },
  {
   "cell_type": "code",
   "execution_count": 20,
   "metadata": {},
   "outputs": [],
   "source": [
    "def InsertionSort(l):\n",
    "    n = len(l)\n",
    "    if n<1:\n",
    "        return l\n",
    "    for i in range(n):\n",
    "        j=i\n",
    "        while j!=0 and L[j]<L[j-1]:\n",
    "            l[j],l[j-1]=l[j-1],l[j]\n",
    "            j=j-1\n",
    "    return L"
   ]
  },
  {
   "cell_type": "code",
   "execution_count": 21,
   "metadata": {},
   "outputs": [
    {
     "name": "stdout",
     "output_type": "stream",
     "text": [
      "[10, 12, 13, 22, 31, 43, 52]\n"
     ]
    }
   ],
   "source": [
    "L = [22,31,13,43,12,10,52]\n",
    "print(InsertionSort(L))"
   ]
  },
  {
   "cell_type": "code",
   "execution_count": 22,
   "metadata": {},
   "outputs": [],
   "source": [
    "def merge(A,B):\n",
    "    m,n = len(A),len(B)\n",
    "    C,i,j,k = [],0,0,0\n",
    "    while k<m+n:\n",
    "        if i==m:\n",
    "            C.extend(B[j:])\n",
    "            k=k+(n-j)\n",
    "        elif j==n:\n",
    "            C.extend(A[i:])\n",
    "            k= k+(m-i)\n",
    "        elif A[i]<B[j]:\n",
    "            C.append(A[i])\n",
    "            i,k=i+1,k+1\n",
    "        else:\n",
    "            C.append(B[j])\n",
    "            j,k=j+1,k+1\n",
    "    return C\n",
    "\n",
    "def mergesort(l):\n",
    "    n= len(l)\n",
    "    if n<=1:\n",
    "        return l\n",
    "    L = mergesort(l[:n//2])\n",
    "    R = mergesort(l[n//2:])\n",
    "    l1 = merge(L,R)\n",
    "    return l1\n"
   ]
  },
  {
   "cell_type": "code",
   "execution_count": 23,
   "metadata": {},
   "outputs": [
    {
     "name": "stdout",
     "output_type": "stream",
     "text": [
      "[10, 12, 13, 22, 31, 43, 52]\n"
     ]
    }
   ],
   "source": [
    "print(mergesort(L))"
   ]
  },
  {
   "cell_type": "code",
   "execution_count": 1,
   "metadata": {},
   "outputs": [],
   "source": [
    "def partition(L,start,end):\n",
    "    pivot_index = start\n",
    "    pivot = L[pivot_index]\n",
    "    while start<end:\n",
    "        while start<len(L) and L[start]<=pivot:\n",
    "            start+=1\n",
    "        while start<len(L) and L[end]>=pivot:\n",
    "            end-=1\n",
    "        if start<end:\n",
    "            L[start],L[end]=L[end],L[start]\n",
    "    L[pivot_index],L[end]=L[end],L[pivot_index]\n",
    "    return end\n",
    "\n",
    "def quicksort(L,start,end):\n",
    "    if start<end:\n",
    "        p=partition(L,start,end)\n",
    "        quicksort(L,start,p-1)\n",
    "        quicksort(L,p+1,end)"
   ]
  },
  {
   "cell_type": "code",
   "execution_count": 2,
   "metadata": {},
   "outputs": [
    {
     "name": "stdout",
     "output_type": "stream",
     "text": [
      "[10, 12, 13, 22, 31, 43, 52]\n"
     ]
    }
   ],
   "source": [
    "L = [22,31,13,43,12,10,52]\n",
    "quicksort(L,0,len(L)-1)\n",
    "print(L)"
   ]
  },
  {
   "cell_type": "code",
   "execution_count": null,
   "metadata": {},
   "outputs": [],
   "source": []
  }
 ],
 "metadata": {
  "interpreter": {
   "hash": "916dbcbb3f70747c44a77c7bcd40155683ae19c65e1c03b4aa3499c5328201f1"
  },
  "kernelspec": {
   "display_name": "Python 3.8.10 64-bit",
   "name": "python3"
  },
  "language_info": {
   "codemirror_mode": {
    "name": "ipython",
    "version": 3
   },
   "file_extension": ".py",
   "mimetype": "text/x-python",
   "name": "python",
   "nbconvert_exporter": "python",
   "pygments_lexer": "ipython3",
   "version": "3.8.10"
  },
  "orig_nbformat": 4
 },
 "nbformat": 4,
 "nbformat_minor": 2
}

{
 "cells": [
  {
   "cell_type": "code",
   "execution_count": 23,
   "metadata": {},
   "outputs": [],
   "source": [
    "L = [22,31,13,43,12,10,52]"
   ]
  },
  {
   "cell_type": "markdown",
   "metadata": {},
   "source": [
    "# Selection Sort"
   ]
  },
  {
   "cell_type": "code",
   "execution_count": 14,
   "metadata": {},
   "outputs": [
    {
     "name": "stdout",
     "output_type": "stream",
     "text": [
      "[10, 12, 13, 22, 31, 43, 52]\n"
     ]
    }
   ],
   "source": [
    "def selection(L):\n",
    "    n = len(L)\n",
    "    if n<1:\n",
    "        return L\n",
    "    for i in range(0,n):\n",
    "        mpos = i\n",
    "        for j in range(i+1,n):\n",
    "            if L[j]<L[mpos]:\n",
    "                mpos = j\n",
    "        L[i],L[mpos] = L[mpos],L[i]\n",
    "    return L\n",
    "\n",
    "print(selection(L))"
   ]
  },
  {
   "cell_type": "markdown",
   "metadata": {},
   "source": [
    "# Insertion Sort"
   ]
  },
  {
   "cell_type": "code",
   "execution_count": 15,
   "metadata": {},
   "outputs": [
    {
     "name": "stdout",
     "output_type": "stream",
     "text": [
      "[10, 12, 13, 22, 31, 43, 52]\n"
     ]
    }
   ],
   "source": [
    "def insertion(l):\n",
    "    n = len(l)\n",
    "    if n<1:\n",
    "        return l\n",
    "    for i in range(0,n):\n",
    "        j=i\n",
    "        while j!=0 and l[j]<l[j-1]:\n",
    "            l[j],l[j-1]=l[j-1],l[j]\n",
    "    return L\n",
    "\n",
    "print(insertion(L))"
   ]
  },
  {
   "cell_type": "markdown",
   "metadata": {},
   "source": [
    "# Merge Sort"
   ]
  },
  {
   "cell_type": "code",
   "execution_count": 16,
   "metadata": {},
   "outputs": [
    {
     "name": "stdout",
     "output_type": "stream",
     "text": [
      "[10, 12, 13, 22, 31, 43, 52]\n"
     ]
    }
   ],
   "source": [
    "def merge(A,B):\n",
    "    m,n = len(A), len(B)\n",
    "    C,i,j,k = [],0,0,0\n",
    "    while k<m+n:\n",
    "        if i==m:\n",
    "            C.extend(B[j:])\n",
    "            k +=(n-j)\n",
    "        elif j==n:\n",
    "            C.extend(A[i:])\n",
    "            k+=(m-i)\n",
    "        elif A[i]<B[j]:\n",
    "            C.append(A[i])\n",
    "            i,k = i+1,k+1\n",
    "        else:\n",
    "            C.append(B[j])\n",
    "            j,k=j+1,k+1\n",
    "    \n",
    "    return C\n",
    "\n",
    "def mergesort(l):\n",
    "    n = len(l)\n",
    "    if n<=1:\n",
    "        return l\n",
    "    L = mergesort(l[:n//2])\n",
    "    R = mergesort(l[n//2:])\n",
    "    l1 = merge(L,R)\n",
    "    return l1\n",
    "\n",
    "print(mergesort(L))"
   ]
  },
  {
   "cell_type": "markdown",
   "metadata": {},
   "source": [
    "# Quicksort"
   ]
  },
  {
   "cell_type": "code",
   "execution_count": 24,
   "metadata": {},
   "outputs": [
    {
     "name": "stdout",
     "output_type": "stream",
     "text": [
      "[10, 12, 13, 22, 31, 43, 52]\n"
     ]
    }
   ],
   "source": [
    "def partition(L,start,end):\n",
    "    pivot_index = start\n",
    "    pivot = L[pivot_index]\n",
    "    while start<end:\n",
    "        while start<len(L) and L[start]<=pivot:\n",
    "            start+=1\n",
    "        while start<len(L) and L[end]>=pivot:\n",
    "            end-=1\n",
    "        if start<end:\n",
    "            L[start],L[end]=L[end],L[start]\n",
    "    L[pivot_index],L[end]=L[end],L[pivot_index]\n",
    "    return end\n",
    "\n",
    "def quicksort(L,start,end):\n",
    "    if start<end:\n",
    "        p=partition(L,start,end)\n",
    "        quicksort(L,start,p-1)\n",
    "        quicksort(L,p+1,end)\n",
    "\n",
    "quicksort(L,0,len(L)-1)\n",
    "print(L)\n"
   ]
  },
  {
   "cell_type": "code",
   "execution_count": null,
   "metadata": {},
   "outputs": [],
   "source": []
  }
 ],
 "metadata": {
  "interpreter": {
   "hash": "916dbcbb3f70747c44a77c7bcd40155683ae19c65e1c03b4aa3499c5328201f1"
  },
  "kernelspec": {
   "display_name": "Python 3.8.10 64-bit",
   "name": "python3"
  },
  "language_info": {
   "codemirror_mode": {
    "name": "ipython",
    "version": 3
   },
   "file_extension": ".py",
   "mimetype": "text/x-python",
   "name": "python",
   "nbconvert_exporter": "python",
   "pygments_lexer": "ipython3",
   "version": "3.8.10"
  },
  "orig_nbformat": 4
 },
 "nbformat": 4,
 "nbformat_minor": 2
}

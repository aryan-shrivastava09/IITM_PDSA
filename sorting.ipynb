{
 "cells": [
  {
   "cell_type": "code",
   "execution_count": 18,
   "source": [
    "L = [22,31,13,43,12,10,52]"
   ],
   "outputs": [],
   "metadata": {}
  },
  {
   "cell_type": "markdown",
   "source": [
    "# Selection Sort"
   ],
   "metadata": {}
  },
  {
   "cell_type": "code",
   "execution_count": 2,
   "source": [
    "def selectionsort(l):\r\n",
    "    n=len(l)\r\n",
    "    if n<1:\r\n",
    "        return l\r\n",
    "    for i in range(n):\r\n",
    "        mpos =i\r\n",
    "        for j in range(i+1,n):\r\n",
    "            if l[j]<l[mpos]:\r\n",
    "                mpos = j\r\n",
    "        l[i],l[mpos] = l[mpos],l[i]\r\n",
    "    return l\r\n",
    "\r\n",
    "print(selectionsort(L))"
   ],
   "outputs": [
    {
     "output_type": "stream",
     "name": "stdout",
     "text": [
      "[10, 12, 13, 22, 31, 43, 52]\n"
     ]
    }
   ],
   "metadata": {}
  },
  {
   "cell_type": "markdown",
   "source": [
    "# Insertion Sort"
   ],
   "metadata": {}
  },
  {
   "cell_type": "code",
   "execution_count": 3,
   "source": [
    "def insertionsort(l):\r\n",
    "    n = len(l)\r\n",
    "    if n<1:\r\n",
    "        return l\r\n",
    "    for i in range(n):\r\n",
    "        j=i\r\n",
    "        while j>0 and l[j]<l[j-1]:\r\n",
    "            l[j],l[j-1] = l[j-1],l[j]\r\n",
    "            j=j-1\r\n",
    "    return l\r\n",
    "\r\n",
    "print(insertionsort(L))"
   ],
   "outputs": [
    {
     "output_type": "stream",
     "name": "stdout",
     "text": [
      "[10, 12, 13, 22, 31, 43, 52]\n"
     ]
    }
   ],
   "metadata": {}
  },
  {
   "cell_type": "markdown",
   "source": [
    "# Merge Sort"
   ],
   "metadata": {}
  },
  {
   "cell_type": "code",
   "execution_count": 4,
   "source": [
    "def merge(a,b):\r\n",
    "    m,n = len(a),len(b)\r\n",
    "    c,i,j,k = [],0,0,0\r\n",
    "    while k<m+n:\r\n",
    "        if i==m:\r\n",
    "            c.extend(b[j:])\r\n",
    "            k=k+(n-j)\r\n",
    "        elif j==n:\r\n",
    "            c.extend(a[i:])\r\n",
    "            k=k+(m-i)\r\n",
    "        elif a[i]<b[j]:\r\n",
    "            c.append(a[i])\r\n",
    "            i,k=i+1,k+1\r\n",
    "        else:\r\n",
    "            c.append(b[j])\r\n",
    "            j,k=j+1,k+1\r\n",
    "    return c\r\n",
    "\r\n",
    "def mergesort(l):\r\n",
    "    n = len(l)\r\n",
    "    if n<=1:\r\n",
    "        return l\r\n",
    "    L= mergesort(l[:n//2])\r\n",
    "    R = mergesort(l[n//2:])\r\n",
    "    l1=merge(L,R)\r\n",
    "    return l1\r\n",
    "\r\n",
    "print(mergesort(L))"
   ],
   "outputs": [
    {
     "output_type": "stream",
     "name": "stdout",
     "text": [
      "[10, 12, 13, 22, 31, 43, 52]\n"
     ]
    }
   ],
   "metadata": {}
  },
  {
   "cell_type": "markdown",
   "source": [
    "# Quicksort"
   ],
   "metadata": {}
  },
  {
   "cell_type": "code",
   "execution_count": 19,
   "source": [
    "def partition(L,start,end):\r\n",
    "    pivot_index = start\r\n",
    "    pivot = L[pivot_index]\r\n",
    "\r\n",
    "    while start<end:\r\n",
    "        while start< len(L) and L[end]>=pivot:\r\n",
    "            end-=1\r\n",
    "        while start< len(L) and L[start]<=pivot:\r\n",
    "            start+=1\r\n",
    "        \r\n",
    "        if start <end:\r\n",
    "            L[start],L[end] = L[end],L[start]\r\n",
    "    L[pivot_index],L[end] = L[end],L[pivot_index]\r\n",
    "    return end\r\n",
    "\r\n",
    "def quicksort(L,start,end):\r\n",
    "    if start<end:\r\n",
    "    \r\n",
    "        p = partition(L,start,end)\r\n",
    "        quicksort(L,start,p-1)\r\n",
    "        quicksort(L,p+1,end)                                                                                                                                                    \r\n",
    "\r\n",
    "quicksort(L,0,len(L)-1)\r\n",
    "print(L)\r\n",
    "    \r\n"
   ],
   "outputs": [
    {
     "output_type": "stream",
     "name": "stdout",
     "text": [
      "[10, 12, 13, 22, 31, 43, 52]\n"
     ]
    }
   ],
   "metadata": {}
  },
  {
   "cell_type": "code",
   "execution_count": null,
   "source": [],
   "outputs": [],
   "metadata": {}
  }
 ],
 "metadata": {
  "orig_nbformat": 4,
  "language_info": {
   "name": "python",
   "version": "3.9.6",
   "mimetype": "text/x-python",
   "codemirror_mode": {
    "name": "ipython",
    "version": 3
   },
   "pygments_lexer": "ipython3",
   "nbconvert_exporter": "python",
   "file_extension": ".py"
  },
  "kernelspec": {
   "name": "python3",
   "display_name": "Python 3.9.6 64-bit"
  },
  "interpreter": {
   "hash": "ab11d4631bdbf480bab8056aa9a03458b7eebdd62f362224c527678da3611864"
  }
 },
 "nbformat": 4,
 "nbformat_minor": 2
}
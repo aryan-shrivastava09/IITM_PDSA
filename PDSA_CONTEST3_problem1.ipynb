{
 "cells": [
  {
   "cell_type": "code",
   "execution_count": null,
   "metadata": {},
   "outputs": [],
   "source": [
    "def Compete(q):\n",
    "    "
   ]
  },
  {
   "cell_type": "code",
   "execution_count": null,
   "metadata": {},
   "outputs": [],
   "source": [
    "T = int(input())\n",
    "nc = int(input())\n",
    "scores = input()\n",
    "scores = scores.split(' ')\n",
    "scores = [int(s) for s in scores]\n",
    "Q = int(input())\n",
    "for i in range(Q):\n",
    "    q = input()\n",
    "    q = q.split(' ')\n",
    "    q = [int(q1) for q1 in q]\n",
    "    if q[0] == 0:\n",
    "        Compete(q[1:])\n",
    "    elif q[0]==1:\n",
    "        Output()"
   ]
  }
 ],
 "metadata": {
  "language_info": {
   "name": "python"
  },
  "orig_nbformat": 4
 },
 "nbformat": 4,
 "nbformat_minor": 2
}

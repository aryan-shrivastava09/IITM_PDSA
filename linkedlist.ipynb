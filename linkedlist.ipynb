{
 "cells": [
  {
   "cell_type": "code",
   "execution_count": 1,
   "source": [
    "class Node:\r\n",
    "    def __init__(self, v=None) -> None:\r\n",
    "        self.value = None\r\n",
    "        self.next = None\r\n",
    "        return\r\n",
    "\r\n",
    "    def isempty(self):\r\n",
    "        if self.value == None:\r\n",
    "            return True\r\n",
    "        else:\r\n",
    "            return False\r\n",
    "\r\n",
    "    def appendr(self,v):\r\n",
    "        if self.value==None:\r\n",
    "            self.value = v\r\n",
    "        elif self.next == None:\r\n",
    "            self.next = Node(v)\r\n",
    "        else:\r\n",
    "            self.next.append(v)\r\n",
    "        return\r\n",
    "    \r\n",
    "    def appendi(self,v):\r\n",
    "        if self.isempty():\r\n",
    "            self.value = v\r\n",
    "            return\r\n",
    "        temp = self\r\n",
    "        while temp.next !=None:\r\n",
    "            temp = temp.next\r\n",
    "\r\n",
    "        temp.next = Node(v)\r\n",
    "        return\r\n",
    "\r\n",
    "    def insert(self,v):\r\n",
    "        if self.isempty():\r\n",
    "            self.value = v\r\n",
    "            return\r\n",
    "\r\n",
    "        newnode = Node(v)\r\n",
    "\r\n",
    "        self.value,newnode.value= newnode.value,self.value\r\n",
    "        self.next,newnode.next = newnode.next,self.next\r\n",
    "        return\r\n",
    "\r\n",
    "    def delete(self,v):\r\n",
    "        if self.isempty():\r\n",
    "            return\r\n",
    "        \r\n",
    "        if self.value == v:\r\n",
    "            self.value =None\r\n",
    "            if self.next !=None:\r\n",
    "                self.value = self.next.value\r\n",
    "                self.next = self.next.next\r\n",
    "            return\r\n",
    "        \r\n",
    "        else:\r\n",
    "            if self.next!=None:\r\n",
    "                self.next.delete(v)\r\n",
    "                if self.next.value == None:\r\n",
    "                    self.next =None\r\n",
    "        return\r\n"
   ],
   "outputs": [],
   "metadata": {}
  },
  {
   "cell_type": "code",
   "execution_count": null,
   "source": [],
   "outputs": [],
   "metadata": {}
  }
 ],
 "metadata": {
  "orig_nbformat": 4,
  "language_info": {
   "name": "python",
   "version": "3.9.6",
   "mimetype": "text/x-python",
   "codemirror_mode": {
    "name": "ipython",
    "version": 3
   },
   "pygments_lexer": "ipython3",
   "nbconvert_exporter": "python",
   "file_extension": ".py"
  },
  "kernelspec": {
   "name": "python3",
   "display_name": "Python 3.9.6 64-bit"
  },
  "interpreter": {
   "hash": "ab11d4631bdbf480bab8056aa9a03458b7eebdd62f362224c527678da3611864"
  }
 },
 "nbformat": 4,
 "nbformat_minor": 2
}
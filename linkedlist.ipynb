{
 "cells": [
  {
   "cell_type": "code",
   "execution_count": 1,
   "metadata": {},
   "outputs": [],
   "source": [
    "class Node:\n",
    "    def __init__(self,v=None) -> None:\n",
    "        self.value = v\n",
    "        self.next = None\n",
    "        return\n",
    "    \n",
    "    def isempty(self):\n",
    "        if self.value ==None:\n",
    "            return True\n",
    "        else:\n",
    "            return False\n",
    "    \n",
    "    def append(self,v):\n",
    "        if self.isempty():\n",
    "            self.value = v\n",
    "        elif self.next == None:\n",
    "            self.next = Node(v)\n",
    "        else:\n",
    "            self.next.append(v)\n",
    "        return\n",
    "    \n",
    "    def insert(self,v):\n",
    "        if self.isempty():\n",
    "            self.value = v\n",
    "            return\n",
    "        \n",
    "        newnode = Node(v)\n",
    "        #Exchange values\n",
    "        self.value,newnode.value = newnode.value, self.value\n",
    "\n",
    "        #Changing links\n",
    "        self.next, newnode.next = newnode, self.next\n",
    "\n",
    "    def delete(self,v):\n",
    "        if self.isempty():\n",
    "            return\n",
    "        \n",
    "        if self.value == v:\n",
    "            self.value = None\n",
    "            if self.next !=None:\n",
    "                self.value = self.next.value\n",
    "                self.next = self.next.next\n",
    "            return\n",
    "        \n",
    "        else:\n",
    "            if self.next != None:\n",
    "                self.next.delete(v)\n",
    "                if self.next.value ==None:\n",
    "                    self.next = None\n",
    "        return\n",
    "    \n"
   ]
  },
  {
   "cell_type": "code",
   "execution_count": null,
   "metadata": {},
   "outputs": [],
   "source": []
  }
 ],
 "metadata": {
  "interpreter": {
   "hash": "916dbcbb3f70747c44a77c7bcd40155683ae19c65e1c03b4aa3499c5328201f1"
  },
  "kernelspec": {
   "display_name": "Python 3.8.10 64-bit",
   "name": "python3"
  },
  "language_info": {
   "codemirror_mode": {
    "name": "ipython",
    "version": 3
   },
   "file_extension": ".py",
   "mimetype": "text/x-python",
   "name": "python",
   "nbconvert_exporter": "python",
   "pygments_lexer": "ipython3",
   "version": "3.8.10"
  },
  "orig_nbformat": 4
 },
 "nbformat": 4,
 "nbformat_minor": 2
}

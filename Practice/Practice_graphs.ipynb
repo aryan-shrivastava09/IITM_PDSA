{
 "cells": [
  {
   "cell_type": "code",
   "execution_count": 1,
   "metadata": {},
   "outputs": [],
   "source": [
    "edges = [(0,1),(1,2),(2,0),(0,4),(4,0),(4,3),(4,7),(3,4),(3,6),(5,3),(5,7),(6,5),(7,8),(7,4),(8,5),(8,9),(9,8)]"
   ]
  },
  {
   "cell_type": "code",
   "execution_count": 2,
   "metadata": {},
   "outputs": [],
   "source": [
    "import numpy as np\n",
    "\n",
    "A = np.zeros((10,10))"
   ]
  },
  {
   "cell_type": "code",
   "execution_count": 3,
   "metadata": {},
   "outputs": [],
   "source": [
    "for edge in edges:\n",
    "    A[edge[0],edge[1]] = 1"
   ]
  },
  {
   "cell_type": "code",
   "execution_count": 4,
   "metadata": {},
   "outputs": [
    {
     "data": {
      "text/plain": [
       "array([[0., 1., 0., 0., 1., 0., 0., 0., 0., 0.],\n",
       "       [0., 0., 1., 0., 0., 0., 0., 0., 0., 0.],\n",
       "       [1., 0., 0., 0., 0., 0., 0., 0., 0., 0.],\n",
       "       [0., 0., 0., 0., 1., 0., 1., 0., 0., 0.],\n",
       "       [1., 0., 0., 1., 0., 0., 0., 1., 0., 0.],\n",
       "       [0., 0., 0., 1., 0., 0., 0., 1., 0., 0.],\n",
       "       [0., 0., 0., 0., 0., 1., 0., 0., 0., 0.],\n",
       "       [0., 0., 0., 0., 1., 0., 0., 0., 1., 0.],\n",
       "       [0., 0., 0., 0., 0., 1., 0., 0., 0., 1.],\n",
       "       [0., 0., 0., 0., 0., 0., 0., 0., 1., 0.]])"
      ]
     },
     "execution_count": 4,
     "metadata": {},
     "output_type": "execute_result"
    }
   ],
   "source": [
    "A"
   ]
  },
  {
   "cell_type": "markdown",
   "metadata": {},
   "source": [
    "## neighbours"
   ]
  },
  {
   "cell_type": "code",
   "execution_count": 5,
   "metadata": {},
   "outputs": [],
   "source": [
    "def neighbours(A, i):\n",
    "    nbrs = []\n",
    "    rows,cols = A.shape\n",
    "    for j in range(cols):\n",
    "        if A[i,j]==1:\n",
    "            nbrs.append(j)\n",
    "    return nbrs"
   ]
  },
  {
   "cell_type": "code",
   "execution_count": 6,
   "metadata": {},
   "outputs": [
    {
     "name": "stdout",
     "output_type": "stream",
     "text": [
      "[0, 3, 7]\n"
     ]
    }
   ],
   "source": [
    "print(neighbours(A,4))"
   ]
  },
  {
   "cell_type": "markdown",
   "metadata": {},
   "source": [
    "## Adjacency list"
   ]
  },
  {
   "cell_type": "code",
   "execution_count": 8,
   "metadata": {},
   "outputs": [
    {
     "name": "stdout",
     "output_type": "stream",
     "text": [
      "{0: [1, 4], 1: [2], 2: [0], 3: [4, 6], 4: [0, 3, 7], 5: [3, 7], 6: [5], 7: [8, 4], 8: [5, 9], 9: [8]}\n"
     ]
    }
   ],
   "source": [
    "Alist = {}\n",
    "for i in range(A.shape[0]):\n",
    "    Alist[i] = []\n",
    "for edge in edges:\n",
    "    Alist[edge[0]].append(edge[1])\n",
    "print(Alist)"
   ]
  },
  {
   "cell_type": "markdown",
   "metadata": {},
   "source": [
    "## Queue"
   ]
  },
  {
   "cell_type": "code",
   "execution_count": 9,
   "metadata": {},
   "outputs": [],
   "source": [
    "class Queue:\n",
    "    def __init__(self) -> None:\n",
    "        self.queue = []\n",
    "    \n",
    "    def addq(self,v):\n",
    "        self.queue.append(v)\n",
    "\n",
    "    def delq(self):\n",
    "        v = None\n",
    "        if not self.isempty():\n",
    "            v = self.queue[0]\n",
    "            self.queue = self.queue[1:]\n",
    "        return v\n",
    "    \n",
    "    def isempty(self):\n",
    "        return len(self.queue)==0\n",
    "    \n",
    "    def __str__(self) -> str:\n",
    "        return str(self.queue)"
   ]
  },
  {
   "cell_type": "markdown",
   "metadata": {},
   "source": [
    "## BFS"
   ]
  },
  {
   "cell_type": "code",
   "execution_count": 13,
   "metadata": {},
   "outputs": [],
   "source": [
    "def BFS(A,v):\n",
    "    rows,cols = A.shape\n",
    "    visited = {}\n",
    "    for i in range(rows):\n",
    "        visited[i] = False\n",
    "\n",
    "    q = Queue()\n",
    "    visited[v] = True\n",
    "    q.addq(v)\n",
    "\n",
    "    while not q.isempty():\n",
    "        j = q.delq()\n",
    "        for k in neighbours(A,j):\n",
    "            if not visited[k]:\n",
    "                visited[k] = True\n",
    "                q.addq(k)\n",
    "    return visited"
   ]
  },
  {
   "cell_type": "code",
   "execution_count": 14,
   "metadata": {},
   "outputs": [
    {
     "name": "stdout",
     "output_type": "stream",
     "text": [
      "{0: True, 1: True, 2: True, 3: True, 4: True, 5: True, 6: True, 7: True, 8: True, 9: True}\n"
     ]
    }
   ],
   "source": [
    "print(BFS(A,4))"
   ]
  },
  {
   "cell_type": "code",
   "execution_count": 16,
   "metadata": {},
   "outputs": [],
   "source": [
    "def BFS(Alist, v):\n",
    "    visited = {}\n",
    "    for i in range(len(Alist)):\n",
    "        visited[i] = False\n",
    "\n",
    "    q = Queue()\n",
    "    visited[v] = True\n",
    "    q.addq(v)\n",
    "\n",
    "    while not q.isempty():\n",
    "        j = q.delq()\n",
    "        for k in Alist[v]:\n",
    "            if not visited[k]:\n",
    "                visited[k] = True\n",
    "                q.addq(k)\n",
    "    return visited"
   ]
  },
  {
   "cell_type": "code",
   "execution_count": 17,
   "metadata": {},
   "outputs": [],
   "source": [
    "def BFS_level_parent(Alist,v):\n",
    "    visited, parent, level = {}, {}, {}\n",
    "    for i in range(len(Alist)):\n",
    "        visited[i] = False\n",
    "        parent[i] = -1\n",
    "        level[i] = -1\n",
    "\n",
    "    q = Queue()\n",
    "    visited[v] = True\n",
    "    parent[v] = 0\n",
    "    level[v] = 0\n",
    "    q.addq(v)\n",
    "\n",
    "    while not q.isempty():\n",
    "        j = q.delq()\n",
    "        for k in Alist[j]:\n",
    "            if not visited[k]:\n",
    "                visited[k] = True\n",
    "                parent[k] = j\n",
    "                level[k] = level[j] +1\n",
    "                q.addq(k)\n",
    "\n",
    "    return visited,parent,level \n"
   ]
  },
  {
   "cell_type": "code",
   "execution_count": 18,
   "metadata": {},
   "outputs": [
    {
     "name": "stdout",
     "output_type": "stream",
     "text": [
      "({0: True, 1: True, 2: True, 3: True, 4: True, 5: True, 6: True, 7: True, 8: True, 9: True}, {0: 4, 1: 0, 2: 1, 3: 4, 4: 0, 5: 6, 6: 3, 7: 4, 8: 7, 9: 8}, {0: 1, 1: 2, 2: 3, 3: 1, 4: 0, 5: 3, 6: 2, 7: 1, 8: 2, 9: 3})\n"
     ]
    }
   ],
   "source": [
    "print(BFS_level_parent(Alist,4))"
   ]
  },
  {
   "cell_type": "markdown",
   "metadata": {},
   "source": [
    "## DFS"
   ]
  },
  {
   "cell_type": "code",
   "execution_count": 19,
   "metadata": {},
   "outputs": [],
   "source": [
    "def dfs(A):\n",
    "    rows,cols = A.shape\n",
    "    visited, parent = {}, {}\n",
    "    for i in range(rows):\n",
    "        visited[i] = False\n",
    "        parent[i] = -1\n",
    "    return visited, parent\n",
    "\n",
    "def DFS(A, visited,parent,v):\n",
    "    visited[v] = True\n",
    "\n",
    "    for k in neighbours(A,v):\n",
    "        if not visited[k]:\n",
    "            parent[k] = v\n",
    "            visited,parent = DFS(A,visited,parent,k)\n",
    "    \n",
    "    return visited,parent"
   ]
  },
  {
   "cell_type": "code",
   "execution_count": null,
   "metadata": {},
   "outputs": [],
   "source": []
  }
 ],
 "metadata": {
  "interpreter": {
   "hash": "916dbcbb3f70747c44a77c7bcd40155683ae19c65e1c03b4aa3499c5328201f1"
  },
  "kernelspec": {
   "display_name": "Python 3.8.10 64-bit",
   "language": "python",
   "name": "python3"
  },
  "language_info": {
   "codemirror_mode": {
    "name": "ipython",
    "version": 3
   },
   "file_extension": ".py",
   "mimetype": "text/x-python",
   "name": "python",
   "nbconvert_exporter": "python",
   "pygments_lexer": "ipython3",
   "version": "3.8.10"
  },
  "orig_nbformat": 4
 },
 "nbformat": 4,
 "nbformat_minor": 2
}
